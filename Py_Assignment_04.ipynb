{
 "cells": [
  {
   "cell_type": "code",
   "execution_count": null,
   "id": "a60fc8e3",
   "metadata": {},
   "outputs": [],
   "source": [
    "'''\n",
    "    1. What exactly is []?\n",
    "    \n",
    "    Ans - \n",
    "        It is a empty list which can be used to store values.\n",
    "'''"
   ]
  },
  {
   "cell_type": "code",
   "execution_count": 5,
   "id": "ab8b3fcd",
   "metadata": {},
   "outputs": [
    {
     "data": {
      "text/plain": [
       "[2, 4, 'hello', 8, 10]"
      ]
     },
     "execution_count": 5,
     "metadata": {},
     "output_type": "execute_result"
    }
   ],
   "source": [
    "'''\n",
    "    2. In a list of values stored in a variable called spam, how would you assign the value 'hello' as the\n",
    "    third value? (Assume [2, 4, 6, 8, 10] are in spam.)\n",
    "    \n",
    "    Ans - \n",
    "        spam[2] = 'hello'\n",
    "'''\n",
    "spam = [2,4,6,8,10]\n",
    "spam[2] = 'hello'\n",
    "spam"
   ]
  },
  {
   "cell_type": "code",
   "execution_count": 11,
   "id": "51f7e8ae",
   "metadata": {},
   "outputs": [],
   "source": [
    "spam = ['a', 'b', 'c', 'd']"
   ]
  },
  {
   "cell_type": "code",
   "execution_count": 12,
   "id": "10cafebe",
   "metadata": {},
   "outputs": [
    {
     "data": {
      "text/plain": [
       "'d'"
      ]
     },
     "execution_count": 12,
     "metadata": {},
     "output_type": "execute_result"
    }
   ],
   "source": [
    "'''\n",
    "    Let's pretend the spam includes the list ['a', 'b', 'c', 'd'] for the next three queries.\n",
    "    \n",
    "    3. What is the value of spam[int(int('3' * 2) / 11)]?\n",
    "    \n",
    "    Ans - \n",
    "        d\n",
    "'''\n",
    "spam[int(int('3' * 2) / 11)]"
   ]
  },
  {
   "cell_type": "code",
   "execution_count": 13,
   "id": "7497ca58",
   "metadata": {},
   "outputs": [
    {
     "data": {
      "text/plain": [
       "'d'"
      ]
     },
     "execution_count": 13,
     "metadata": {},
     "output_type": "execute_result"
    }
   ],
   "source": [
    "'''\n",
    "    4. What is the value of spam[-1]?\n",
    "    \n",
    "    Ans - \n",
    "        d        \n",
    "'''\n",
    "spam[-1]"
   ]
  },
  {
   "cell_type": "code",
   "execution_count": 14,
   "id": "920eb641",
   "metadata": {},
   "outputs": [
    {
     "data": {
      "text/plain": [
       "['a', 'b']"
      ]
     },
     "execution_count": 14,
     "metadata": {},
     "output_type": "execute_result"
    }
   ],
   "source": [
    "'''\n",
    "    5. What is the value of spam[:2]?\n",
    "    \n",
    "    Ans - \n",
    "        ['a', 'b']\n",
    "'''\n",
    "spam[:2]"
   ]
  },
  {
   "cell_type": "code",
   "execution_count": 15,
   "id": "aeed8e1e",
   "metadata": {},
   "outputs": [],
   "source": [
    "bacon = [3.14, 'cat', 11, 'cat', True]"
   ]
  },
  {
   "cell_type": "code",
   "execution_count": 16,
   "id": "1034fbe8",
   "metadata": {},
   "outputs": [
    {
     "data": {
      "text/plain": [
       "1"
      ]
     },
     "execution_count": 16,
     "metadata": {},
     "output_type": "execute_result"
    }
   ],
   "source": [
    "'''\n",
    "    Let's pretend bacon has the list [3.14, 'cat', 11, 'cat', True] for the next three questions.\n",
    "    \n",
    "    6. What is the value of bacon.index('cat')?\n",
    "    \n",
    "    Ans - \n",
    "        1\n",
    "'''\n",
    "bacon.index('cat')"
   ]
  },
  {
   "cell_type": "code",
   "execution_count": 17,
   "id": "3a6a651f",
   "metadata": {},
   "outputs": [
    {
     "data": {
      "text/plain": [
       "[3.14, 'cat', 11, 'cat', True, 99]"
      ]
     },
     "execution_count": 17,
     "metadata": {},
     "output_type": "execute_result"
    }
   ],
   "source": [
    "'''\n",
    "    7. How does bacon.append(99) change the look of the list value in bacon?\n",
    "    \n",
    "    Ans - \n",
    "        It adds 99 to the last of the list without removing any element.\n",
    "'''\n",
    "bacon.append(99)\n",
    "bacon"
   ]
  },
  {
   "cell_type": "code",
   "execution_count": 18,
   "id": "ad79fbcd",
   "metadata": {},
   "outputs": [
    {
     "data": {
      "text/plain": [
       "[3.14, 11, 'cat', True, 99]"
      ]
     },
     "execution_count": 18,
     "metadata": {},
     "output_type": "execute_result"
    }
   ],
   "source": [
    "'''\n",
    "    8. How does bacon.remove('cat') change the look of the list in bacon?\n",
    "    \n",
    "    Ans - \n",
    "        It removes the first occurance of 'cat' from the list.\n",
    "'''\n",
    "bacon.remove('cat')\n",
    "bacon"
   ]
  },
  {
   "cell_type": "code",
   "execution_count": 21,
   "id": "8233d504",
   "metadata": {},
   "outputs": [
    {
     "data": {
      "text/plain": [
       "['a', 'b', 'c', 'd', 'a', 'b', 'c', 'd']"
      ]
     },
     "execution_count": 21,
     "metadata": {},
     "output_type": "execute_result"
    }
   ],
   "source": [
    "'''\n",
    "    9. What are the list concatenation and list replication operators?\n",
    "    \n",
    "    Ans - \n",
    "        list concatenation --> +\n",
    "        list replication   --> *\n",
    "'''\n",
    "spam + spam"
   ]
  },
  {
   "cell_type": "code",
   "execution_count": 22,
   "id": "f3a5e95b",
   "metadata": {},
   "outputs": [
    {
     "data": {
      "text/plain": [
       "[3.14,\n",
       " 11,\n",
       " 'cat',\n",
       " True,\n",
       " 99,\n",
       " 3.14,\n",
       " 11,\n",
       " 'cat',\n",
       " True,\n",
       " 99,\n",
       " 3.14,\n",
       " 11,\n",
       " 'cat',\n",
       " True,\n",
       " 99]"
      ]
     },
     "execution_count": 22,
     "metadata": {},
     "output_type": "execute_result"
    }
   ],
   "source": [
    "bacon * 3"
   ]
  },
  {
   "cell_type": "code",
   "execution_count": null,
   "id": "0458247b",
   "metadata": {},
   "outputs": [],
   "source": [
    "'''\n",
    "    10. What is difference between the list methods append() and insert()?\n",
    "    \n",
    "    Ans - \n",
    "        append() --> adds the element to the end of the list.\n",
    "        insert() --> adds the element to the particular index of the list.\n",
    "'''"
   ]
  },
  {
   "cell_type": "code",
   "execution_count": null,
   "id": "8925eb4f",
   "metadata": {},
   "outputs": [],
   "source": [
    "'''\n",
    "    11. What are the two methods for removing items from a list?\n",
    "    \n",
    "    Ans - \n",
    "        remove() --> removes the first occurance of the element from the list.\n",
    "        pop()    --> removes the element from the specified index of the list.\n",
    "        clear()  --> clears out the entire list.\n",
    "'''"
   ]
  },
  {
   "cell_type": "code",
   "execution_count": null,
   "id": "bdfcd378",
   "metadata": {},
   "outputs": [],
   "source": [
    "'''\n",
    "    12. Describe how list values and string values are identical.\n",
    "    \n",
    "    Ans - \n",
    "        Both list values and string values are sequences. And both of them are iterables.\n",
    "'''"
   ]
  },
  {
   "cell_type": "code",
   "execution_count": null,
   "id": "07cdbe93",
   "metadata": {},
   "outputs": [],
   "source": [
    "'''\n",
    "    13. What's the difference between tuples and lists?\n",
    "    \n",
    "    Ans - \n",
    "        Lists are mutable meaning the elements of a list can be changed.\n",
    "        Tuples are immutable meaning the elements of a tuple cannot be changed.\n",
    "'''"
   ]
  },
  {
   "cell_type": "code",
   "execution_count": 29,
   "id": "375cedcc",
   "metadata": {},
   "outputs": [
    {
     "data": {
      "text/plain": [
       "tuple"
      ]
     },
     "execution_count": 29,
     "metadata": {},
     "output_type": "execute_result"
    }
   ],
   "source": [
    "'''\n",
    "    14. How do you type a tuple value that only contains the integer 42?\n",
    "'''\n",
    "\n",
    "tup = (42,)\n",
    "type(tup)"
   ]
  },
  {
   "cell_type": "code",
   "execution_count": null,
   "id": "c0c4b303",
   "metadata": {},
   "outputs": [],
   "source": [
    "'''\n",
    "    15. How do you get a list value's tuple form? How do you get a tuple value's list form?\n",
    "    \n",
    "    Ans - \n",
    "        tuple()\n",
    "        list() respectively\n",
    "'''"
   ]
  },
  {
   "cell_type": "code",
   "execution_count": 32,
   "id": "0c33dffe",
   "metadata": {},
   "outputs": [
    {
     "data": {
      "text/plain": [
       "'a'"
      ]
     },
     "execution_count": 32,
     "metadata": {},
     "output_type": "execute_result"
    }
   ],
   "source": [
    "'''\n",
    "    16. Variables that \"contain\" list values are not necessarily lists themselves. Instead, what do they\n",
    "    contain?\n",
    "    \n",
    "    Ans - \n",
    "        They contain reference to the list values.\n",
    "'''\n",
    "abc = spam\n",
    "abc[0]"
   ]
  },
  {
   "cell_type": "code",
   "execution_count": null,
   "id": "cf02d1af",
   "metadata": {},
   "outputs": [],
   "source": [
    "'''\n",
    "    17. How do you distinguish between copy.copy() and copy.deepcopy()?\n",
    "    \n",
    "    Ans - \n",
    "        copy.copy() will do a shallow copy i.e., it creates a new object which references to the parent object. Any changes made \n",
    "                    to the new list will affect the original list.\n",
    "        copy.deepcopy() will do a deep copy i.e., it creates a new object and copies the items to this new object. Any changes \n",
    "                        made to the new list will not affect the original list.\n",
    "'''"
   ]
  }
 ],
 "metadata": {
  "kernelspec": {
   "display_name": "Python 3 (ipykernel)",
   "language": "python",
   "name": "python3"
  },
  "language_info": {
   "codemirror_mode": {
    "name": "ipython",
    "version": 3
   },
   "file_extension": ".py",
   "mimetype": "text/x-python",
   "name": "python",
   "nbconvert_exporter": "python",
   "pygments_lexer": "ipython3",
   "version": "3.9.12"
  }
 },
 "nbformat": 4,
 "nbformat_minor": 5
}
