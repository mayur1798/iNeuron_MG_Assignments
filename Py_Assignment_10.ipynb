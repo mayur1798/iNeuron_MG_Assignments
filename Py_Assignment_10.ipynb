{
 "cells": [
  {
   "cell_type": "code",
   "execution_count": null,
   "id": "14af89cc",
   "metadata": {},
   "outputs": [],
   "source": [
    "'''\n",
    "    1. How do you distinguish between shutil.copy() and shutil.copytree()?\n",
    "    \n",
    "    Ans - \n",
    "        shutil.copy() function will copy a single file.\n",
    "        shutil.copytree() will copy an entire folder along with all its contents.\n",
    "'''"
   ]
  },
  {
   "cell_type": "code",
   "execution_count": null,
   "id": "9ae87fef",
   "metadata": {},
   "outputs": [],
   "source": [
    "'''\n",
    "    2. What function is used to rename files??\n",
    "\n",
    "    Ans - \n",
    "        shutil.move() function is used for renaming files, as well as to move files.\n",
    "'''"
   ]
  },
  {
   "cell_type": "code",
   "execution_count": null,
   "id": "bb6fdaf7",
   "metadata": {},
   "outputs": [],
   "source": [
    "'''\n",
    "    3. What is the difference between the delete functions in the send2trash and shutil modules?\n",
    "    \n",
    "    Ans - \n",
    "        send2trash functions will move a file or folder to the recycle bin.\n",
    "        shutil functions will permanently delete files and folders.\n",
    "'''"
   ]
  },
  {
   "cell_type": "code",
   "execution_count": null,
   "id": "3ba4f8fa",
   "metadata": {},
   "outputs": [],
   "source": [
    "'''\n",
    "    4.ZipFile objects have a close() method just like File objects’ close() method. What ZipFile method is\n",
    "    equivalent to File objects’ open() method?\n",
    "    \n",
    "    Ans - \n",
    "        The zipfile.ZipFile() function is equivalent to the file objects' open() function.        \n",
    "'''"
   ]
  },
  {
   "cell_type": "code",
   "execution_count": null,
   "id": "92a628ee",
   "metadata": {},
   "outputs": [],
   "source": [
    "'''\n",
    "    5. Create a programme that searches a folder tree for files with a certain file extension (such as .pdf or .jpg).\n",
    "    Copy these files from whatever location they are in to a new folder.\n",
    "    \n",
    "    Ans - \n",
    "'''\n",
    "import os, shutil\n",
    "\n",
    "sourcePath = input('Enter the absolute path of the source folder: ')\n",
    "fileExtType = input('Enter the type of file to copy (such as .pdf or .jpg): ').lower()\n",
    "destPath = input('Enter the absolute path of the destination folder: ')\n",
    "\n",
    "for foldername, subfolders, filenames in os.walk(sourcePath):\n",
    "    for filename in filenames:\n",
    "        if filename.lower().endswith(fileExtType):\n",
    "            print(foldername + '\\\\' + filename)\n",
    "            copySourcePath = os.path.join(foldername, filename)\n",
    "            print(copySourcePath)\n",
    "            shutil.copy(copySourcePath, destPath)\n",
    "        else:\n",
    "            continue"
   ]
  }
 ],
 "metadata": {
  "kernelspec": {
   "display_name": "Python 3 (ipykernel)",
   "language": "python",
   "name": "python3"
  },
  "language_info": {
   "codemirror_mode": {
    "name": "ipython",
    "version": 3
   },
   "file_extension": ".py",
   "mimetype": "text/x-python",
   "name": "python",
   "nbconvert_exporter": "python",
   "pygments_lexer": "ipython3",
   "version": "3.9.12"
  }
 },
 "nbformat": 4,
 "nbformat_minor": 5
}
