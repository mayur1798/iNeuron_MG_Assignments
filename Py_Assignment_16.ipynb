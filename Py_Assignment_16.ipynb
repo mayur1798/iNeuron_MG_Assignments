{
 "cells": [
  {
   "cell_type": "code",
   "execution_count": 72,
   "id": "e95eae54",
   "metadata": {},
   "outputs": [
    {
     "data": {
      "text/plain": [
       "[1980, 1981, 1982, 1983, 1984, 1985]"
      ]
     },
     "execution_count": 72,
     "metadata": {},
     "output_type": "execute_result"
    }
   ],
   "source": [
    "'''\n",
    "    1. Create a list called years_list, starting with the year of your birth, and each year thereafter until\n",
    "    the year of your fifth birthday. For example, if you were born in 1980. the list would be years_list =\n",
    "    [1980, 1981, 1982, 1983, 1984, 1985].\n",
    "'''\n",
    "years_list = [1980, 1981, 1982, 1983, 1984, 1985]\n",
    "years_list"
   ]
  },
  {
   "cell_type": "code",
   "execution_count": 73,
   "id": "e5730725",
   "metadata": {},
   "outputs": [
    {
     "data": {
      "text/plain": [
       "1982"
      ]
     },
     "execution_count": 73,
     "metadata": {},
     "output_type": "execute_result"
    }
   ],
   "source": [
    "'''\n",
    "    2. In which year in years_list was your third birthday? Remember, you were 0 years of age for your\n",
    "    first year.\n",
    "'''\n",
    "years_list[2]"
   ]
  },
  {
   "cell_type": "code",
   "execution_count": 74,
   "id": "ef4c4438",
   "metadata": {},
   "outputs": [
    {
     "data": {
      "text/plain": [
       "1985"
      ]
     },
     "execution_count": 74,
     "metadata": {},
     "output_type": "execute_result"
    }
   ],
   "source": [
    "'''\n",
    "    3.In the years list, which year were you the oldest?\n",
    "'''\n",
    "years_list[-1]"
   ]
  },
  {
   "cell_type": "code",
   "execution_count": 75,
   "id": "ca3280e9",
   "metadata": {},
   "outputs": [
    {
     "data": {
      "text/plain": [
       "['mozzarella', 'cinderella', 'salmonella']"
      ]
     },
     "execution_count": 75,
     "metadata": {},
     "output_type": "execute_result"
    }
   ],
   "source": [
    "'''\n",
    "    4. Make a list called things with these three strings as elements: \"mozzarella\", \"cinderella\", \"salmonella\".\n",
    "'''\n",
    "things = ['mozzarella', 'cinderella', 'salmonella']\n",
    "things"
   ]
  },
  {
   "cell_type": "code",
   "execution_count": 80,
   "id": "6df626b0",
   "metadata": {},
   "outputs": [
    {
     "data": {
      "text/plain": [
       "'CINDERELLA'"
      ]
     },
     "execution_count": 80,
     "metadata": {},
     "output_type": "execute_result"
    }
   ],
   "source": [
    "'''\n",
    "    5. Capitalize the element in things that refers to a person and then print the list. Did it change the\n",
    "    element in the list?\n",
    "    \n",
    "    Ans - No changes in the list.\n",
    "'''\n",
    "things[1].upper()"
   ]
  },
  {
   "cell_type": "code",
   "execution_count": 81,
   "id": "c0b9a8dc",
   "metadata": {},
   "outputs": [
    {
     "data": {
      "text/plain": [
       "['mozzarella', 'cinderella', 'salmonella']"
      ]
     },
     "execution_count": 81,
     "metadata": {},
     "output_type": "execute_result"
    }
   ],
   "source": [
    "things"
   ]
  },
  {
   "cell_type": "code",
   "execution_count": 82,
   "id": "2dc0eb50",
   "metadata": {},
   "outputs": [
    {
     "data": {
      "text/plain": [
       "['Groucho', 'Chico', 'Harpo']"
      ]
     },
     "execution_count": 82,
     "metadata": {},
     "output_type": "execute_result"
    }
   ],
   "source": [
    "'''\n",
    "    6. Make a surprise list with the elements \"Groucho\", \"Chico\" and \"Harpo\".\n",
    "'''\n",
    "supriselist = ['Groucho','Chico','Harpo']\n",
    "supriselist"
   ]
  },
  {
   "cell_type": "code",
   "execution_count": 83,
   "id": "070f501e",
   "metadata": {},
   "outputs": [
    {
     "data": {
      "text/plain": [
       "'harpo'"
      ]
     },
     "execution_count": 83,
     "metadata": {},
     "output_type": "execute_result"
    }
   ],
   "source": [
    "'''\n",
    "    7. Lowercase the last element of the surprise list, reverse it, and then capitalize it.\n",
    "'''\n",
    "temp = supriselist[-1].lower()\n",
    "temp"
   ]
  },
  {
   "cell_type": "code",
   "execution_count": 84,
   "id": "f8e88a56",
   "metadata": {},
   "outputs": [
    {
     "data": {
      "text/plain": [
       "'oprah'"
      ]
     },
     "execution_count": 84,
     "metadata": {},
     "output_type": "execute_result"
    }
   ],
   "source": [
    "temp = temp[::-1]\n",
    "temp"
   ]
  },
  {
   "cell_type": "code",
   "execution_count": 85,
   "id": "98cc1106",
   "metadata": {},
   "outputs": [
    {
     "data": {
      "text/plain": [
       "'Oprah'"
      ]
     },
     "execution_count": 85,
     "metadata": {},
     "output_type": "execute_result"
    }
   ],
   "source": [
    "temp.capitalize()"
   ]
  },
  {
   "cell_type": "code",
   "execution_count": 86,
   "id": "38ae93c7",
   "metadata": {},
   "outputs": [
    {
     "data": {
      "text/plain": [
       "{'dog': 'chien', 'cat': 'chat', 'walrus': 'morse'}"
      ]
     },
     "execution_count": 86,
     "metadata": {},
     "output_type": "execute_result"
    }
   ],
   "source": [
    "'''\n",
    "    8. Make an English-to-French dictionary called e2f and print it. Here are your starter words: dog is\n",
    "    chien, cat is chat, and walrus is morse.\n",
    "'''\n",
    "e2f = {'dog':'chien', 'cat':'chat', 'walrus':'morse'}\n",
    "e2f"
   ]
  },
  {
   "cell_type": "code",
   "execution_count": 87,
   "id": "45dca06b",
   "metadata": {},
   "outputs": [
    {
     "data": {
      "text/plain": [
       "'morse'"
      ]
     },
     "execution_count": 87,
     "metadata": {},
     "output_type": "execute_result"
    }
   ],
   "source": [
    "'''\n",
    "    9. Write the French word for walrus in your three-word dictionary e2f.\n",
    "'''\n",
    "e2f['walrus']"
   ]
  },
  {
   "cell_type": "code",
   "execution_count": 88,
   "id": "bf3f00ca",
   "metadata": {},
   "outputs": [
    {
     "data": {
      "text/plain": [
       "{'chien': 'dog', 'chat': 'cat', 'morse': 'walrus'}"
      ]
     },
     "execution_count": 88,
     "metadata": {},
     "output_type": "execute_result"
    }
   ],
   "source": [
    "'''\n",
    "    10. Make a French-to-English dictionary called f2e from e2f. Use the items method.\n",
    "'''\n",
    "f2e = inv_map = {v: k for k, v in e2f.items()}\n",
    "f2e"
   ]
  },
  {
   "cell_type": "code",
   "execution_count": 89,
   "id": "620100b2",
   "metadata": {},
   "outputs": [
    {
     "data": {
      "text/plain": [
       "'dog'"
      ]
     },
     "execution_count": 89,
     "metadata": {},
     "output_type": "execute_result"
    }
   ],
   "source": [
    "'''\n",
    "    11. Print the English version of the French word chien using f2e.\n",
    "'''\n",
    "f2e['chien']"
   ]
  },
  {
   "cell_type": "code",
   "execution_count": 90,
   "id": "4d35d406",
   "metadata": {},
   "outputs": [
    {
     "data": {
      "text/plain": [
       "dict_keys(['dog', 'cat', 'walrus'])"
      ]
     },
     "execution_count": 90,
     "metadata": {},
     "output_type": "execute_result"
    }
   ],
   "source": [
    "'''\n",
    "    12. Make and print a set of English words from the keys in e2f.\n",
    "'''\n",
    "e2f.keys()"
   ]
  },
  {
   "cell_type": "code",
   "execution_count": 91,
   "id": "77186317",
   "metadata": {},
   "outputs": [
    {
     "data": {
      "text/plain": [
       "{'animals': {'cats': ['Henri', 'Grumpy', 'Lucy'], 'octopi': {}, 'emus': {}},\n",
       " 'plants': {},\n",
       " 'other': {}}"
      ]
     },
     "execution_count": 91,
     "metadata": {},
     "output_type": "execute_result"
    }
   ],
   "source": [
    "'''\n",
    "    13. Make a multilevel dictionary called life. Use these strings for the topmost keys: 'animals', 'plants',and 'other'. \n",
    "    Make the 'animals' key refer to another dictionary with the keys 'cats', 'octopi', and 'emus'. \n",
    "    Make the 'cats' key refer to a list of strings with the values 'Henri', 'Grumpy', and 'Lucy'.\n",
    "    Make all the other keys refer to empty dictionaries.\n",
    "'''\n",
    "life = {'animals': {'cats':['Henri', 'Grumpy', 'Lucy'], 'octopi': {}, 'emus': {}}, 'plants' : {}, 'other': {}}\n",
    "life"
   ]
  },
  {
   "cell_type": "code",
   "execution_count": 92,
   "id": "2c8546fd",
   "metadata": {},
   "outputs": [
    {
     "data": {
      "text/plain": [
       "dict_keys(['animals', 'plants', 'other'])"
      ]
     },
     "execution_count": 92,
     "metadata": {},
     "output_type": "execute_result"
    }
   ],
   "source": [
    "'''\n",
    "    14. Print the top-level keys of life.\n",
    "'''\n",
    "life.keys()"
   ]
  },
  {
   "cell_type": "code",
   "execution_count": 93,
   "id": "97c25025",
   "metadata": {},
   "outputs": [
    {
     "data": {
      "text/plain": [
       "dict_keys(['cats', 'octopi', 'emus'])"
      ]
     },
     "execution_count": 93,
     "metadata": {},
     "output_type": "execute_result"
    }
   ],
   "source": [
    "'''\n",
    "    15. Print the keys for life['animals'].\n",
    "'''\n",
    "life['animals'].keys()"
   ]
  },
  {
   "cell_type": "code",
   "execution_count": 94,
   "id": "96ee0758",
   "metadata": {},
   "outputs": [
    {
     "data": {
      "text/plain": [
       "['Henri', 'Grumpy', 'Lucy']"
      ]
     },
     "execution_count": 94,
     "metadata": {},
     "output_type": "execute_result"
    }
   ],
   "source": [
    "'''\n",
    "    16. Print the values for life['animals']['cats']\n",
    "'''\n",
    "life['animals']['cats']"
   ]
  },
  {
   "cell_type": "code",
   "execution_count": null,
   "id": "573b9106",
   "metadata": {},
   "outputs": [],
   "source": []
  }
 ],
 "metadata": {
  "kernelspec": {
   "display_name": "Python 3 (ipykernel)",
   "language": "python",
   "name": "python3"
  },
  "language_info": {
   "codemirror_mode": {
    "name": "ipython",
    "version": 3
   },
   "file_extension": ".py",
   "mimetype": "text/x-python",
   "name": "python",
   "nbconvert_exporter": "python",
   "pygments_lexer": "ipython3",
   "version": "3.9.12"
  }
 },
 "nbformat": 4,
 "nbformat_minor": 5
}
