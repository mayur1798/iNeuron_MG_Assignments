{
 "cells": [
  {
   "cell_type": "code",
   "execution_count": null,
   "id": "03cb5609",
   "metadata": {},
   "outputs": [],
   "source": [
    "'''\n",
    "    1. To what does a relative path refer?\n",
    "    \n",
    "    Ans - \n",
    "        Relative path refers to the current working directory.\n",
    "\n",
    "'''"
   ]
  },
  {
   "cell_type": "code",
   "execution_count": null,
   "id": "767cab70",
   "metadata": {},
   "outputs": [],
   "source": [
    "'''\n",
    "    2. What does an absolute path start with your operating system?\n",
    "    \n",
    "    Ans - \n",
    "        Absolute path refers to the root path. It starts with C:\\ or /\n",
    "\n",
    "'''"
   ]
  },
  {
   "cell_type": "code",
   "execution_count": null,
   "id": "5f45757b",
   "metadata": {},
   "outputs": [],
   "source": [
    "'''\n",
    "    3. What do the functions os.getcwd() and os.chdir() do?\n",
    "    \n",
    "    Ans - \n",
    "        os.getcwd() - Returns the current working directory\n",
    "        os.chdir() - Changes the current working directory\n",
    "'''"
   ]
  },
  {
   "cell_type": "code",
   "execution_count": null,
   "id": "a1ee8d96",
   "metadata": {},
   "outputs": [],
   "source": [
    "'''\n",
    "    4. What are the . and .. folders?\n",
    "    \n",
    "    Ans - \n",
    "        . is used for current folder\n",
    "        .. is used for the parent folder\n",
    "'''"
   ]
  },
  {
   "cell_type": "code",
   "execution_count": null,
   "id": "a5a33fc3",
   "metadata": {},
   "outputs": [],
   "source": [
    "'''\n",
    "    5. In C:\\bacon\\eggs\\spam.txt, which part is the dir name, and which part is the base name?\n",
    "    \n",
    "    Ans - \n",
    "        C:\\bacon\\eggs is the directory name\n",
    "        spam.txt is the base name\n",
    "'''"
   ]
  },
  {
   "cell_type": "code",
   "execution_count": null,
   "id": "c5f5777d",
   "metadata": {},
   "outputs": [],
   "source": [
    "'''\n",
    "    6. What are the three “mode” arguments that can be passed to the open() function?\n",
    "    \n",
    "    Ans - \n",
    "        read(r), write(w) and append(a)\n",
    "'''"
   ]
  },
  {
   "cell_type": "code",
   "execution_count": null,
   "id": "c48fbf95",
   "metadata": {},
   "outputs": [],
   "source": [
    "'''\n",
    "    7. What happens if an existing file is opened in write mode?\n",
    "    \n",
    "    Ans - \n",
    "        The file is erased and completely overwritten.\n",
    "'''"
   ]
  },
  {
   "cell_type": "code",
   "execution_count": null,
   "id": "f0ffbaaf",
   "metadata": {},
   "outputs": [],
   "source": [
    "'''\n",
    "    8. How do you tell the difference between read() and readlines()?\n",
    "    \n",
    "    Ans - \n",
    "        The read() method returns the file’s entire contents as a single string value. \n",
    "        The readlines() method returns a list of strings where each string is a line from the file.\n",
    "'''"
   ]
  },
  {
   "cell_type": "code",
   "execution_count": null,
   "id": "c1fe7973",
   "metadata": {},
   "outputs": [],
   "source": [
    "'''\n",
    "    9. What data structure does a shelf value resemble?\n",
    "\n",
    "    Ans - \n",
    "        A shelf value resembles a dictionary value it has keys and values, along with keys() and values() methods.\n",
    "'''"
   ]
  }
 ],
 "metadata": {
  "kernelspec": {
   "display_name": "Python 3 (ipykernel)",
   "language": "python",
   "name": "python3"
  },
  "language_info": {
   "codemirror_mode": {
    "name": "ipython",
    "version": 3
   },
   "file_extension": ".py",
   "mimetype": "text/x-python",
   "name": "python",
   "nbconvert_exporter": "python",
   "pygments_lexer": "ipython3",
   "version": "3.9.12"
  }
 },
 "nbformat": 4,
 "nbformat_minor": 5
}
