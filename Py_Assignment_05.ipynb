{
 "cells": [
  {
   "cell_type": "code",
   "execution_count": 1,
   "id": "9c6a18d5",
   "metadata": {},
   "outputs": [],
   "source": [
    "'''\n",
    "    1. What does an empty dictionary's code look like?\n",
    "    \n",
    "    Ans -\n",
    "        dict = {}\n",
    "'''\n",
    "\n",
    "dict = {}"
   ]
  },
  {
   "cell_type": "code",
   "execution_count": 12,
   "id": "822efd8a",
   "metadata": {},
   "outputs": [
    {
     "data": {
      "text/plain": [
       "42"
      ]
     },
     "execution_count": 12,
     "metadata": {},
     "output_type": "execute_result"
    }
   ],
   "source": [
    "'''\n",
    "    2. What is the value of a dictionary value with the key 'foo' and the value 42?\n",
    "    \n",
    "    Ans - \n",
    "        The value for the key 'foo' is 42  \n",
    "    \n",
    "'''\n",
    "\n",
    "dict = {'foo' : 42}\n",
    "dict['foo']"
   ]
  },
  {
   "cell_type": "code",
   "execution_count": 11,
   "id": "04c057b9",
   "metadata": {},
   "outputs": [
    {
     "data": {
      "text/plain": [
       "dict_keys(['foo'])"
      ]
     },
     "execution_count": 11,
     "metadata": {},
     "output_type": "execute_result"
    }
   ],
   "source": [
    "dict.keys()"
   ]
  },
  {
   "cell_type": "code",
   "execution_count": null,
   "id": "8eeeb0c9",
   "metadata": {},
   "outputs": [],
   "source": [
    "'''\n",
    "    3. What is the most significant distinction between a dictionary and a list?\n",
    "    \n",
    "    Ans - \n",
    "        List is a collection of index value pairs whereas Dictionary is a collection of key-value pairs. \n",
    "        In lists the order of the elements are maintained whereas in dictionary the order is not guaranteed.\n",
    "\n",
    "'''"
   ]
  },
  {
   "cell_type": "code",
   "execution_count": 8,
   "id": "08f98a73",
   "metadata": {},
   "outputs": [
    {
     "ename": "KeyError",
     "evalue": "'foo'",
     "output_type": "error",
     "traceback": [
      "\u001b[1;31m---------------------------------------------------------------------------\u001b[0m",
      "\u001b[1;31mKeyError\u001b[0m                                  Traceback (most recent call last)",
      "Input \u001b[1;32mIn [8]\u001b[0m, in \u001b[0;36m<cell line: 9>\u001b[1;34m()\u001b[0m\n\u001b[0;32m      1\u001b[0m \u001b[38;5;124;03m'''\u001b[39;00m\n\u001b[0;32m      2\u001b[0m \u001b[38;5;124;03m    4. What happens if you try to access spam['foo'] if spam is {'bar': 100}?\u001b[39;00m\n\u001b[0;32m      3\u001b[0m \u001b[38;5;124;03m    \u001b[39;00m\n\u001b[1;32m   (...)\u001b[0m\n\u001b[0;32m      6\u001b[0m \n\u001b[0;32m      7\u001b[0m \u001b[38;5;124;03m'''\u001b[39;00m\n\u001b[0;32m      8\u001b[0m spam \u001b[38;5;241m=\u001b[39m {\u001b[38;5;124m'\u001b[39m\u001b[38;5;124mbar\u001b[39m\u001b[38;5;124m'\u001b[39m: \u001b[38;5;241m100\u001b[39m}\n\u001b[1;32m----> 9\u001b[0m \u001b[43mspam\u001b[49m\u001b[43m[\u001b[49m\u001b[38;5;124;43m'\u001b[39;49m\u001b[38;5;124;43mfoo\u001b[39;49m\u001b[38;5;124;43m'\u001b[39;49m\u001b[43m]\u001b[49m\n",
      "\u001b[1;31mKeyError\u001b[0m: 'foo'"
     ]
    }
   ],
   "source": [
    "'''\n",
    "    4. What happens if you try to access spam['foo'] if spam is {'bar': 100}?\n",
    "    \n",
    "    Ans - \n",
    "        No value is returned as key 'foo' is not declared in spam dictionary. KeyError is throw.\n",
    "\n",
    "'''\n",
    "spam = {'bar': 100}\n",
    "spam['foo']"
   ]
  },
  {
   "cell_type": "code",
   "execution_count": 13,
   "id": "540c38fd",
   "metadata": {},
   "outputs": [
    {
     "data": {
      "text/plain": [
       "dict_keys(['cat'])"
      ]
     },
     "execution_count": 13,
     "metadata": {},
     "output_type": "execute_result"
    }
   ],
   "source": [
    "'''\n",
    "    5. If a dictionary is stored in spam, what is the difference between the expressions 'cat' in spam and\n",
    "       'cat' in spam.keys()?\n",
    "    \n",
    "    Ans - \n",
    "        The first expression 'cat' is used to search for the value in the spam dictionary. \n",
    "        While the 'cat' in spam.keys() returns the key 'cat' from the dictionary if the value is present.\n",
    "\n",
    "'''\n",
    "spam = {'cat':'food'}\n",
    "spam.keys()"
   ]
  },
  {
   "cell_type": "code",
   "execution_count": 14,
   "id": "871d7602",
   "metadata": {},
   "outputs": [
    {
     "data": {
      "text/plain": [
       "dict_keys(['cat'])"
      ]
     },
     "execution_count": 14,
     "metadata": {},
     "output_type": "execute_result"
    }
   ],
   "source": [
    "'''\n",
    "    5. If a dictionary is stored in spam, what is the difference between the expressions 'cat' in spam and\n",
    "       'cat' in spam.keys()?\n",
    "    \n",
    "    Ans - \n",
    "        Ans - \n",
    "        The first expression 'cat' is used to search for the value in the spam dictionary. \n",
    "        While the 'cat' in spam.keys() returns the key 'cat' from the dictionary if the value is present.\n",
    "\n",
    "'''\n",
    "spam = {'cat':'food'}\n",
    "spam.keys()"
   ]
  },
  {
   "cell_type": "code",
   "execution_count": 21,
   "id": "3572a997",
   "metadata": {},
   "outputs": [
    {
     "data": {
      "text/plain": [
       "'black'"
      ]
     },
     "execution_count": 21,
     "metadata": {},
     "output_type": "execute_result"
    }
   ],
   "source": [
    "'''\n",
    "    7. What is a shortcut for the following code?\n",
    "    if 'color' not in spam:\n",
    "    spam['color'] = 'black'\n",
    "    \n",
    "    Ans - \n",
    "        spam.setdefault('color', 'black')\n",
    "\n",
    "'''\n",
    "spam.setdefault('color', 'black')"
   ]
  },
  {
   "cell_type": "code",
   "execution_count": null,
   "id": "31ea0d9f",
   "metadata": {},
   "outputs": [],
   "source": [
    "'''\n",
    "    8. How do you \"pretty print\" dictionary values using which module and function?\n",
    "    \n",
    "    Ans - \n",
    "        Import pprint module and use pprint() function.\n",
    "        pprint.pprint()\n",
    "\n",
    "'''"
   ]
  }
 ],
 "metadata": {
  "kernelspec": {
   "display_name": "Python 3 (ipykernel)",
   "language": "python",
   "name": "python3"
  },
  "language_info": {
   "codemirror_mode": {
    "name": "ipython",
    "version": 3
   },
   "file_extension": ".py",
   "mimetype": "text/x-python",
   "name": "python",
   "nbconvert_exporter": "python",
   "pygments_lexer": "ipython3",
   "version": "3.9.12"
  }
 },
 "nbformat": 4,
 "nbformat_minor": 5
}
