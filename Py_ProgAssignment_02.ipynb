{
 "cells": [
  {
   "cell_type": "code",
   "execution_count": 5,
   "id": "e2102b59",
   "metadata": {},
   "outputs": [
    {
     "data": {
      "text/plain": [
       "15.537600994406464"
      ]
     },
     "execution_count": 5,
     "metadata": {},
     "output_type": "execute_result"
    }
   ],
   "source": [
    "'''\n",
    "    1. Write a Python program to convert kilometers to miles?\n",
    "'''\n",
    "def kms_to_miles(kms):\n",
    "    return kms / 1.609\n",
    "\n",
    "kms_to_miles(25)"
   ]
  },
  {
   "cell_type": "code",
   "execution_count": 7,
   "id": "c0df8139",
   "metadata": {},
   "outputs": [
    {
     "data": {
      "text/plain": [
       "73.4"
      ]
     },
     "execution_count": 7,
     "metadata": {},
     "output_type": "execute_result"
    }
   ],
   "source": [
    "'''\n",
    "    2. Write a Python program to convert Celsius to Fahrenheit?\n",
    "'''\n",
    "def cel_to_fahr(cel):\n",
    "    return ((cel * (9/5)) + 32)\n",
    "\n",
    "cel_to_fahr(23)"
   ]
  },
  {
   "cell_type": "code",
   "execution_count": 10,
   "id": "fc9e0e0e",
   "metadata": {},
   "outputs": [
    {
     "name": "stdout",
     "output_type": "stream",
     "text": [
      "    January 2564\n",
      "Mo Tu We Th Fr Sa Su\n",
      "                   1\n",
      " 2  3  4  5  6  7  8\n",
      " 9 10 11 12 13 14 15\n",
      "16 17 18 19 20 21 22\n",
      "23 24 25 26 27 28 29\n",
      "30 31\n",
      "\n"
     ]
    }
   ],
   "source": [
    "'''\n",
    "    3. Write a Python program to display calendar?\n",
    "'''\n",
    "import calendar\n",
    "\n",
    "def display(month, year):\n",
    "    return print(calendar.month(year, month))\n",
    "\n",
    "display(1,2564)"
   ]
  },
  {
   "cell_type": "code",
   "execution_count": 27,
   "id": "e7395ddf",
   "metadata": {},
   "outputs": [
    {
     "name": "stdout",
     "output_type": "stream",
     "text": [
      "The roots are\n",
      "(-1-1.224744871391589j) (-1+1.224744871391589j)\n"
     ]
    }
   ],
   "source": [
    "'''\n",
    "    4. Write a Python program to solve quadratic equation?\n",
    "'''\n",
    "import cmath\n",
    "\n",
    "def solve_quad(a,b,c):\n",
    "    if a == 0:\n",
    "        return 'Value \"a\" cannot be zero'\n",
    "    else:\n",
    "        dis = (b**2) - (4*a*c)\n",
    "        \n",
    "        ans1 = (-b-cmath.sqrt(dis))/(2*a)\n",
    "        ans2 = (-b+cmath.sqrt(dis))/(2*a)\n",
    "        \n",
    "        print('The roots are')\n",
    "        print(ans1, ans2)\n",
    "\n",
    "solve_quad(2,4,5)"
   ]
  },
  {
   "cell_type": "code",
   "execution_count": 28,
   "id": "7932e5aa",
   "metadata": {},
   "outputs": [
    {
     "data": {
      "text/plain": [
       "'Value \"a\" cannot be zero'"
      ]
     },
     "execution_count": 28,
     "metadata": {},
     "output_type": "execute_result"
    }
   ],
   "source": [
    "solve_quad(0,2,3)"
   ]
  },
  {
   "cell_type": "code",
   "execution_count": 22,
   "id": "93f01fbb",
   "metadata": {},
   "outputs": [
    {
     "name": "stdout",
     "output_type": "stream",
     "text": [
      "a= 10\n",
      "b= 12\n"
     ]
    }
   ],
   "source": [
    "'''\n",
    "    5. Write a Python program to swap two variables without temp variable?\n",
    "'''\n",
    "\n",
    "def swap_var(a,b):\n",
    "    a,b = b,a\n",
    "    print('a=',a)\n",
    "    print('b=',b)\n",
    "    \n",
    "swap_var(12, 10)"
   ]
  }
 ],
 "metadata": {
  "kernelspec": {
   "display_name": "Python 3 (ipykernel)",
   "language": "python",
   "name": "python3"
  },
  "language_info": {
   "codemirror_mode": {
    "name": "ipython",
    "version": 3
   },
   "file_extension": ".py",
   "mimetype": "text/x-python",
   "name": "python",
   "nbconvert_exporter": "python",
   "pygments_lexer": "ipython3",
   "version": "3.9.12"
  }
 },
 "nbformat": 4,
 "nbformat_minor": 5
}
