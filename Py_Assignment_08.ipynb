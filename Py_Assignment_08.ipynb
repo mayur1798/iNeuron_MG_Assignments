{
 "cells": [
  {
   "cell_type": "code",
   "execution_count": null,
   "id": "c42e818a",
   "metadata": {},
   "outputs": [],
   "source": [
    "'''\n",
    "    1. Is the Python Standard Library included with PyInputPlus?\n",
    "    \n",
    "    Ans - \n",
    "        PyInputPlus is not a part Python Standard Library.\n",
    "\n",
    "'''"
   ]
  },
  {
   "cell_type": "code",
   "execution_count": null,
   "id": "0b5f1dbc",
   "metadata": {},
   "outputs": [],
   "source": [
    "'''\n",
    "    2. Why is PyInputPlus commonly imported with import pyinputplus as pypi?\n",
    "    \n",
    "    Ans - \n",
    "        PyInputPlus is used for taking inputs with additional validation features.\n",
    "        So we can use a shorter name when calling the modules functions. \n",
    "\n",
    "'''"
   ]
  },
  {
   "cell_type": "code",
   "execution_count": null,
   "id": "54f3fb37",
   "metadata": {},
   "outputs": [],
   "source": [
    "'''\n",
    "    3. How do you distinguish between inputInt() and inputFloat()?\n",
    "    \n",
    "    Ans - \n",
    "        inputInt() expects a integer value \n",
    "        inputFloat() expects a float or decimal value.\n",
    "\n",
    "'''"
   ]
  },
  {
   "cell_type": "code",
   "execution_count": null,
   "id": "f7de777a",
   "metadata": {},
   "outputs": [],
   "source": [
    "'''\n",
    "    4. Using PyInputPlus, how do you ensure that the user enters a whole number between 0 and 99?\n",
    "    \n",
    "    Ans - \n",
    "        \n",
    "'''\n",
    "import pyinputplus as pypi\n",
    "\n",
    "no = pypi.inputInt(min = 0, max =99)"
   ]
  },
  {
   "cell_type": "code",
   "execution_count": null,
   "id": "d95230b8",
   "metadata": {},
   "outputs": [],
   "source": [
    "'''\n",
    "    5. What is transferred to the keyword arguments allowRegexes and blockRegexes?\n",
    "    \n",
    "    Ans - \n",
    "        A list of regex strings that are either allowed by allowRegexes and denied by blockRegexes.\n",
    "\n",
    "'''"
   ]
  },
  {
   "cell_type": "code",
   "execution_count": null,
   "id": "e2b7cafa",
   "metadata": {},
   "outputs": [],
   "source": [
    "'''\n",
    "    6. If a blank input is entered three times, what does inputStr(limit=3) do?\n",
    "    \n",
    "    Ans - \n",
    "         RetryLimitException occurs.\n",
    "\n",
    "'''"
   ]
  },
  {
   "cell_type": "code",
   "execution_count": null,
   "id": "aec281f4",
   "metadata": {},
   "outputs": [],
   "source": [
    "'''\n",
    "    7. If blank input is entered three times, what does inputStr(limit=3, default='hello') do?\n",
    "    \n",
    "    Ans - \n",
    "        The function returns the default value 'hello'\n",
    "\n",
    "'''"
   ]
  }
 ],
 "metadata": {
  "kernelspec": {
   "display_name": "Python 3 (ipykernel)",
   "language": "python",
   "name": "python3"
  },
  "language_info": {
   "codemirror_mode": {
    "name": "ipython",
    "version": 3
   },
   "file_extension": ".py",
   "mimetype": "text/x-python",
   "name": "python",
   "nbconvert_exporter": "python",
   "pygments_lexer": "ipython3",
   "version": "3.9.12"
  }
 },
 "nbformat": 4,
 "nbformat_minor": 5
}
