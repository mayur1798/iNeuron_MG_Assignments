{
 "cells": [
  {
   "cell_type": "code",
   "execution_count": 1,
   "id": "d9c5a02f",
   "metadata": {},
   "outputs": [
    {
     "name": "stdout",
     "output_type": "stream",
     "text": [
      "Hello Python\n"
     ]
    }
   ],
   "source": [
    "'''\n",
    "    1. Write a Python program to print 'Hello Python'?\n",
    "'''\n",
    "\n",
    "print('Hello Python')"
   ]
  },
  {
   "cell_type": "code",
   "execution_count": 2,
   "id": "a8a7526a",
   "metadata": {},
   "outputs": [
    {
     "data": {
      "text/plain": [
       "7"
      ]
     },
     "execution_count": 2,
     "metadata": {},
     "output_type": "execute_result"
    }
   ],
   "source": [
    "'''\n",
    "    2. Write a Python program to do arithmetical operations addition and division.?\n",
    "'''\n",
    "def add(a,b):\n",
    "    return a + b\n",
    "def div(a,b):\n",
    "    if b != 0:\n",
    "         return a / b\n",
    "    else:\n",
    "        return 'Denominator cannot be zero'\n",
    "\n",
    "add(3,4)"
   ]
  },
  {
   "cell_type": "code",
   "execution_count": 3,
   "id": "68784745",
   "metadata": {},
   "outputs": [
    {
     "data": {
      "text/plain": [
       "2.0"
      ]
     },
     "execution_count": 3,
     "metadata": {},
     "output_type": "execute_result"
    }
   ],
   "source": [
    "div(4,2)"
   ]
  },
  {
   "cell_type": "code",
   "execution_count": 4,
   "id": "42eb4989",
   "metadata": {},
   "outputs": [
    {
     "data": {
      "text/plain": [
       "'Denominator cannot be zero'"
      ]
     },
     "execution_count": 4,
     "metadata": {},
     "output_type": "execute_result"
    }
   ],
   "source": [
    "div(2,0)"
   ]
  },
  {
   "cell_type": "code",
   "execution_count": 5,
   "id": "35eea567",
   "metadata": {},
   "outputs": [
    {
     "data": {
      "text/plain": [
       "0.5"
      ]
     },
     "execution_count": 5,
     "metadata": {},
     "output_type": "execute_result"
    }
   ],
   "source": [
    "div(1,2)"
   ]
  },
  {
   "cell_type": "code",
   "execution_count": 8,
   "id": "bdfb6fcf",
   "metadata": {},
   "outputs": [
    {
     "name": "stdout",
     "output_type": "stream",
     "text": [
      "area of triangle is -  60.0\n"
     ]
    }
   ],
   "source": [
    "'''\n",
    "    3. Write a Python program to find the area of a triangle?\n",
    "'''\n",
    "\n",
    "def area_of_triangle(base, height):\n",
    "    return 0.5*base*height\n",
    "\n",
    "print('area of triangle is - ',area_of_triangle(12,10))"
   ]
  },
  {
   "cell_type": "code",
   "execution_count": 10,
   "id": "6dd33be3",
   "metadata": {},
   "outputs": [
    {
     "data": {
      "text/plain": [
       "(10, 20)"
      ]
     },
     "execution_count": 10,
     "metadata": {},
     "output_type": "execute_result"
    }
   ],
   "source": [
    "'''\n",
    "    4. Write a Python program to swap two variables?\n",
    "'''\n",
    "c = 0\n",
    "def swap_var(a,b):\n",
    "    c = a\n",
    "    a = b\n",
    "    b = c\n",
    "    return a,b\n",
    "\n",
    "swap_var(20,10)"
   ]
  },
  {
   "cell_type": "code",
   "execution_count": 13,
   "id": "b89783dc",
   "metadata": {},
   "outputs": [
    {
     "name": "stdout",
     "output_type": "stream",
     "text": [
      "46\n"
     ]
    }
   ],
   "source": [
    "'''\n",
    "    5. Write a Python program to generate a random number?\n",
    "'''\n",
    "import random\n",
    "\n",
    "print(random.randint(0,50))"
   ]
  }
 ],
 "metadata": {
  "kernelspec": {
   "display_name": "Python 3 (ipykernel)",
   "language": "python",
   "name": "python3"
  },
  "language_info": {
   "codemirror_mode": {
    "name": "ipython",
    "version": 3
   },
   "file_extension": ".py",
   "mimetype": "text/x-python",
   "name": "python",
   "nbconvert_exporter": "python",
   "pygments_lexer": "ipython3",
   "version": "3.9.12"
  }
 },
 "nbformat": 4,
 "nbformat_minor": 5
}
