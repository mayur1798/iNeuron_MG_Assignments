{
 "cells": [
  {
   "cell_type": "code",
   "execution_count": null,
   "id": "ae470abe",
   "metadata": {},
   "outputs": [],
   "source": [
    "'''\n",
    "    1. What advantages do Excel spreadsheets have over CSV spreadsheets?\n",
    "    \n",
    "    Ans - In Excel, spreadsheets can have values of data types other than strings and cells can be of different fonts, sizes and colors.\n",
    "          Cells can have varying widths and heights and you can embed images and charts.\n",
    "'''"
   ]
  },
  {
   "cell_type": "code",
   "execution_count": null,
   "id": "a999f0ad",
   "metadata": {},
   "outputs": [],
   "source": [
    "'''\n",
    "    2.What do you pass to csv.reader() and csv.writer() to create reader and writer objects?\n",
    "    \n",
    "    Ans - Pass a File object, obtained from a call to open().\n",
    "'''"
   ]
  },
  {
   "cell_type": "code",
   "execution_count": null,
   "id": "680a5301",
   "metadata": {},
   "outputs": [],
   "source": [
    "'''\n",
    "    3. What modes do File objects for reader and writer objects need to be opened in?\n",
    "    \n",
    "    Ans - 'rb' for PdfFileReader()\n",
    "          'rw' for PdfFileWriter()\n",
    "'''"
   ]
  },
  {
   "cell_type": "code",
   "execution_count": null,
   "id": "59e461ef",
   "metadata": {},
   "outputs": [],
   "source": [
    "'''\n",
    "    4. What method takes a list argument and writes it to a CSV file?\n",
    "    \n",
    "    Ans - writerow() method\n",
    "'''\n",
    "writerow()"
   ]
  },
  {
   "cell_type": "code",
   "execution_count": null,
   "id": "78b1cfdc",
   "metadata": {},
   "outputs": [],
   "source": [
    "'''\n",
    "    5. What do the keyword arguments delimiter and line terminator do?\n",
    "    \n",
    "    Ans - The delimiter argument changes the string or character used to separate cells in a row. \n",
    "          The lineterminator argument changes the string used to separate rows, is passed at the end of the row.\n",
    "'''"
   ]
  },
  {
   "cell_type": "code",
   "execution_count": null,
   "id": "3c17a42a",
   "metadata": {},
   "outputs": [],
   "source": [
    "'''\n",
    "   6. What function takes a string of JSON data and returns a Python data structure? \n",
    "   \n",
    "   Ans - json.loads()\n",
    "'''\n",
    "json.loads()"
   ]
  },
  {
   "cell_type": "code",
   "execution_count": null,
   "id": "a0d7ca78",
   "metadata": {},
   "outputs": [],
   "source": [
    "'''\n",
    "    7. What function takes a Python data structure and returns a string of JSON data?\n",
    "    \n",
    "    Ans - json.dumps()\n",
    "'''\n",
    "json.dumps()"
   ]
  }
 ],
 "metadata": {
  "kernelspec": {
   "display_name": "Python 3 (ipykernel)",
   "language": "python",
   "name": "python3"
  },
  "language_info": {
   "codemirror_mode": {
    "name": "ipython",
    "version": 3
   },
   "file_extension": ".py",
   "mimetype": "text/x-python",
   "name": "python",
   "nbconvert_exporter": "python",
   "pygments_lexer": "ipython3",
   "version": "3.9.12"
  }
 },
 "nbformat": 4,
 "nbformat_minor": 5
}
