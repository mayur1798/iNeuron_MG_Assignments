{
 "cells": [
  {
   "cell_type": "code",
   "execution_count": null,
   "id": "aa3bdfc3",
   "metadata": {},
   "outputs": [],
   "source": [
    "'''\n",
    "    1. What is the name of the feature responsible for generating Regex objects?\n",
    "    \n",
    "    Ans -\n",
    "        The re.compile() function returns Regex objects.\n",
    "\n",
    "'''"
   ]
  },
  {
   "cell_type": "code",
   "execution_count": null,
   "id": "694e3a6f",
   "metadata": {},
   "outputs": [],
   "source": [
    "'''\n",
    "    2. Why do raw strings often appear in Regex objects?\n",
    "    \n",
    "    Ans - \n",
    "        Raw strings are used so that backslashes do not have to be escaped.\n",
    "\n",
    "'''"
   ]
  },
  {
   "cell_type": "code",
   "execution_count": 7,
   "id": "134d383e",
   "metadata": {},
   "outputs": [
    {
     "name": "stdout",
     "output_type": "stream",
     "text": [
      "<re.Match object; span=(8, 11), match='day'>\n"
     ]
    }
   ],
   "source": [
    "'''\n",
    "    3. What is the return value of the search() method?\n",
    "    \n",
    "    Ans - \n",
    "        The search functipn searches the string for a match and returns a match object if found else returns None\n",
    "    \n",
    "'''\n",
    "import re\n",
    "\n",
    "txt = 'A rainy day in bangalore'\n",
    "x = re.search('day', txt)\n",
    "print(x)"
   ]
  },
  {
   "cell_type": "code",
   "execution_count": 5,
   "id": "e790e32b",
   "metadata": {},
   "outputs": [
    {
     "name": "stdout",
     "output_type": "stream",
     "text": [
      "day\n"
     ]
    }
   ],
   "source": [
    "'''\n",
    "    4. From a Match item, how do you get the actual strings that match the pattern?\n",
    "    \n",
    "    Ans -\n",
    "        The group() method returns the string from the matched text. \n",
    "\n",
    "'''\n",
    "txt = 'A rainy day in bangalore'\n",
    "x = re.search('day', txt)\n",
    "print(x.group())"
   ]
  },
  {
   "cell_type": "code",
   "execution_count": null,
   "id": "b0f9c506",
   "metadata": {},
   "outputs": [],
   "source": [
    "'''\n",
    "    5. In the regex which created from the r'(\\d\\d\\d)-(\\d\\d\\d-\\d\\d\\d\\d)', what does group zero cover?\n",
    "    Group 2? Group 1?\n",
    "    \n",
    "    Ans - \n",
    "        Group 0 cover the entire expression, Group 1 covers the first set of parentheses and Group 2 covers the second set\n",
    "        od parentheses.\n",
    "\n",
    "'''"
   ]
  },
  {
   "cell_type": "code",
   "execution_count": null,
   "id": "88f7b105",
   "metadata": {},
   "outputs": [],
   "source": [
    "'''\n",
    "    6. In standard expression syntax, parentheses and intervals have distinct meanings. How can you tell\n",
    "    a regex that you want it to fit real parentheses and periods?\n",
    "    \n",
    "    Ans - \n",
    "        Periods and parentheses can be fit by using backslash\n",
    "        Eg - \\., \\(, \\)\n",
    "\n",
    "'''"
   ]
  },
  {
   "cell_type": "code",
   "execution_count": null,
   "id": "c4a715a5",
   "metadata": {},
   "outputs": [],
   "source": [
    "'''\n",
    "    7. The findall() method returns a string list or a list of string tuples. What causes it to return one of\n",
    "     the two options?\n",
    "     \n",
    "     Ans - \n",
    "            If the regex has no groups, a list of strings is returned. If the regex has groups, \n",
    "            a list of tuples of strings is returned.\n",
    "\n",
    "'''"
   ]
  },
  {
   "cell_type": "code",
   "execution_count": null,
   "id": "eb79eacc",
   "metadata": {},
   "outputs": [],
   "source": [
    "'''\n",
    "    8. In standard expressions, what does the | character mean?\n",
    "    \n",
    "    Ans - \n",
    "        Specifies 'either', 'or' between 2 groups\n",
    "'''"
   ]
  },
  {
   "cell_type": "code",
   "execution_count": null,
   "id": "646f71e8",
   "metadata": {},
   "outputs": [],
   "source": [
    "'''\n",
    "    9. In regular expressions, what does the | character stand for?\n",
    "    \n",
    "    Ans - \n",
    "        OR operator works to check if the present before or after or is present in the string or not.\n",
    "'''"
   ]
  },
  {
   "cell_type": "code",
   "execution_count": null,
   "id": "2acbd4f3",
   "metadata": {},
   "outputs": [],
   "source": [
    "'''\n",
    "    10.In regular expressions, what is the difference between the + and * characters?\n",
    "    \n",
    "    Ans - \n",
    "        + - Matches one or more occurances in the pattern before the + symbol.\n",
    "        * - Matches zero or more occurances in the pattern before the * symbol.\n",
    "'''"
   ]
  },
  {
   "cell_type": "code",
   "execution_count": null,
   "id": "2930616b",
   "metadata": {},
   "outputs": [],
   "source": [
    "'''\n",
    "    11. What is the difference between {4} and {4,5} in regular expression?\n",
    "    \n",
    "    Ans - \n",
    "        {4} matches 4 instances of the group and {4,5} matches between 4 and 5 instances.\n",
    "'''"
   ]
  },
  {
   "cell_type": "code",
   "execution_count": null,
   "id": "4c7e4038",
   "metadata": {},
   "outputs": [],
   "source": [
    "'''\n",
    "    12. What do you mean by the \\d, \\w, and \\s shorthand character classes signify in regular\n",
    "    expressions?\n",
    "    \n",
    "    Ans - \n",
    "        The \\d, \\w, and \\s shorthand character classes match a single digit, word, or space character, respectively.\n",
    "'''"
   ]
  },
  {
   "cell_type": "code",
   "execution_count": null,
   "id": "e159aa00",
   "metadata": {},
   "outputs": [],
   "source": [
    "'''\n",
    "    13. What do means by \\D, \\W, and \\S shorthand character classes signify in regular expressions?\n",
    "\n",
    "    Ans - \n",
    "        The \\D, \\W, and \\S shorthand character classes match a single character that is not a digit, word, \n",
    "        or space character, respectively.\n",
    "'''"
   ]
  },
  {
   "cell_type": "code",
   "execution_count": null,
   "id": "cef50aee",
   "metadata": {},
   "outputs": [],
   "source": [
    "'''\n",
    "    14. What is the difference between .*? and .*?\n",
    "\n",
    "    Ans - \n",
    "        I could not understand the question.\n",
    "'''"
   ]
  },
  {
   "cell_type": "code",
   "execution_count": null,
   "id": "ebbc697b",
   "metadata": {},
   "outputs": [],
   "source": [
    "'''\n",
    "    15. What is the syntax for matching both numbers and lowercase letters with a character class?\n",
    "    \n",
    "    Ans - \n",
    "        [a-z0-9] or [0-9a-z]\n",
    "    \n",
    "'''"
   ]
  },
  {
   "cell_type": "code",
   "execution_count": null,
   "id": "4f9e87d5",
   "metadata": {},
   "outputs": [],
   "source": [
    "'''\n",
    "    16. What is the procedure for making a normal expression in regax case insensitive?\n",
    "    \n",
    "    Ans -\n",
    "        re.I or re.IGNORECASE() after re.compile() makes the normal expression to insensitive case.\n",
    "\n",
    "'''"
   ]
  },
  {
   "cell_type": "code",
   "execution_count": null,
   "id": "fcc621d0",
   "metadata": {},
   "outputs": [],
   "source": [
    "'''\n",
    "    17. What does the . character normally match? What does it match if re.DOTALL is passed as 2nd\n",
    "    argument in re.compile()?\n",
    "    \n",
    "    Ans - \n",
    "        The . character normally matches any character except the newline character. \n",
    "        If re.DOTALL is passed as the second argument to re.compile(), then the dot will also match newline characters.\n",
    "\n",
    "'''"
   ]
  },
  {
   "cell_type": "code",
   "execution_count": null,
   "id": "6ea028f6",
   "metadata": {},
   "outputs": [],
   "source": [
    "'''\n",
    "    18. If numReg = re.compile(r'\\d+'), what will numRegex.sub('X', '11 drummers, 10 pipers, five rings, 4 hen') return?\n",
    "\n",
    "    Ans - \n",
    "        'X drummers, X pipers, five rings, X hens'\n",
    "\n",
    "'''"
   ]
  },
  {
   "cell_type": "code",
   "execution_count": null,
   "id": "b6b8c952",
   "metadata": {},
   "outputs": [],
   "source": [
    "'''\n",
    "    19. What does passing re.VERBOSE as the 2nd argument to re.compile() allow to do?\n",
    "    \n",
    "    Ans - \n",
    "        The re.VERBOSE argument allows you to add whitespace and comments to the string passed to re.compile().\n",
    "'''"
   ]
  },
  {
   "cell_type": "code",
   "execution_count": null,
   "id": "ecba212f",
   "metadata": {},
   "outputs": [],
   "source": [
    "'''\n",
    "    20. How would you write a regex that match a number with comma for every three digits? It must\n",
    "    match the given following:\n",
    "    '42'\n",
    "    '1,234'\n",
    "    '6,368,745'\n",
    "\n",
    "    but not the following:\n",
    "    '12,34,567' (which has only two digits between the commas)\n",
    "    '1234' (which lacks commas)\n",
    "    \n",
    "    Ans - \n",
    "        re.compile(r'^\\d{1,3}(,\\d{3})*$')\n",
    "    \n",
    "'''"
   ]
  },
  {
   "cell_type": "code",
   "execution_count": null,
   "id": "040b800f",
   "metadata": {},
   "outputs": [],
   "source": [
    "'''\n",
    "    21. How would you write a regex that matches the full name of someone whose last name is\n",
    "        Watanabe? You can assume that the first name that comes before it will always be one word that\n",
    "        begins with a capital letter. The regex must match the following:\n",
    "        \n",
    "        Haruto Watanabe\n",
    "        Alice Watanabe\n",
    "        RoboCop Watanabe\n",
    "        \n",
    "        but not the following:\n",
    "        \n",
    "        haruto Watanabe (where the first name is not capitalized)\n",
    "        Mr. Watanabe (where the preceding word has a nonletter character)\n",
    "        Watanabe (which has no first name)\n",
    "        Haruto watanabe (where Watanabe is not capitalized)\n",
    "\n",
    "    Ans - \n",
    "        re.compile(r'[A-Z][a-z]+\\sNakamoto')\n",
    "'''"
   ]
  },
  {
   "cell_type": "code",
   "execution_count": null,
   "id": "c7440a53",
   "metadata": {},
   "outputs": [],
   "source": [
    "'''\n",
    "    22. How would you write a regex that matches a sentence where the first word is either Alice, Bob,\n",
    "        or Carol; the second word is either eats, pets, or throws; the third word is apples, cats, or baseballs;\n",
    "        and the sentence ends with a period? This regex should be case-insensitive. It must match the\n",
    "        following:\n",
    "        Alice eats apples.\n",
    "        Bob pets cats.\n",
    "        Carol throws baseballs.\n",
    "        Alice throws Apples.\n",
    "        BOB EATS CATS.\n",
    "        \n",
    "        but not the following:\n",
    "        \n",
    "        RoboCop eats apples.\n",
    "        ALICE THROWS FOOTBALLS.\n",
    "        Carol eats 7 cats.\n",
    "        \n",
    "    Ans - \n",
    "        re.compile(r'(Alice|Bob|Carol)\\s(eats|pets|throws)\\s(apples|cats|baseballs)\\., re.IGNORECASE')\n",
    "\n",
    "'''"
   ]
  }
 ],
 "metadata": {
  "kernelspec": {
   "display_name": "Python 3 (ipykernel)",
   "language": "python",
   "name": "python3"
  },
  "language_info": {
   "codemirror_mode": {
    "name": "ipython",
    "version": 3
   },
   "file_extension": ".py",
   "mimetype": "text/x-python",
   "name": "python",
   "nbconvert_exporter": "python",
   "pygments_lexer": "ipython3",
   "version": "3.9.12"
  }
 },
 "nbformat": 4,
 "nbformat_minor": 5
}
