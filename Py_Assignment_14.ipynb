{
 "cells": [
  {
   "cell_type": "code",
   "execution_count": null,
   "id": "238cc3df",
   "metadata": {},
   "outputs": [],
   "source": [
    "'''\n",
    "    1. What does RGBA stand for?\n",
    "    \n",
    "    Ans - Red - Blue - Green - Alpha\n",
    "'''"
   ]
  },
  {
   "cell_type": "code",
   "execution_count": null,
   "id": "a7b02eb4",
   "metadata": {},
   "outputs": [],
   "source": [
    "'''\n",
    "    2. From the Pillow module, how do you get the RGBA value of any images?\n",
    "'''\n",
    "from PIL import Image \n",
    "\n",
    "img = Image.open('image.png')\n",
    "rgba = img.convert(\"RGBA\")\n",
    "datas = rgba.getdata()"
   ]
  },
  {
   "cell_type": "code",
   "execution_count": null,
   "id": "8cf070e7",
   "metadata": {},
   "outputs": [],
   "source": [
    "'''\n",
    "    3. What is a box tuple, and how does it work?\n",
    "    \n",
    "    Ans - Box tuple argument is expecting a tuple of four integer coordinates that represent a rectangular region in an image.\n",
    "          The four integers are :-\n",
    "          \n",
    "          Left: The x-coordinate of the leftmost edge of the box.\n",
    "\n",
    "          Top: The y-coordinate of the top edge of the box.\n",
    "\n",
    "          Right: The x-coordinate of one pixel to the right of the rightmost edge of the box. This integer must be greater than the left integer.\n",
    "\n",
    "          Bottom: The y-coordinate of one pixel lower than the bottom edge of the box. This integer must be greater than the top integer.\n",
    "'''"
   ]
  },
  {
   "cell_type": "code",
   "execution_count": 2,
   "id": "d897b6d9",
   "metadata": {},
   "outputs": [],
   "source": [
    "'''\n",
    "    4. Use your image and load in notebook then, How can you find out the width and height of an\n",
    "    Image object?\n",
    "    \n",
    "    Ans - \n",
    "'''\n",
    "from PIL import Image\n",
    "\n",
    "img = Image.open(\"Daisies Transparent PNG Clip Art Image.png\")\n",
    "width, height = img.size"
   ]
  },
  {
   "cell_type": "code",
   "execution_count": 3,
   "id": "803519ac",
   "metadata": {},
   "outputs": [
    {
     "data": {
      "text/plain": [
       "4861"
      ]
     },
     "execution_count": 3,
     "metadata": {},
     "output_type": "execute_result"
    }
   ],
   "source": [
    "width"
   ]
  },
  {
   "cell_type": "code",
   "execution_count": 4,
   "id": "dbb0f3ec",
   "metadata": {},
   "outputs": [
    {
     "data": {
      "text/plain": [
       "8000"
      ]
     },
     "execution_count": 4,
     "metadata": {},
     "output_type": "execute_result"
    }
   ],
   "source": [
    "height"
   ]
  },
  {
   "cell_type": "code",
   "execution_count": null,
   "id": "5b75857a",
   "metadata": {},
   "outputs": [],
   "source": [
    "'''\n",
    "    5. What method would you call to get Image object for a 100×100 image, excluding the lower-left\n",
    "    quarter of it?\n",
    "    \n",
    "    Ans -  \n",
    "'''\n",
    "im = Image.new('RGBA', (100, 100), 'purple')\n",
    "img_arr = np.array(im)\n",
    "img_arr[0 : 10, 0 : 10] = (0, 0, 0)"
   ]
  },
  {
   "cell_type": "code",
   "execution_count": null,
   "id": "f99f8ca6",
   "metadata": {},
   "outputs": [],
   "source": [
    "'''\n",
    "    6. After making changes to an Image object, how could you save it as an image file?\n",
    "    \n",
    "    Ans - Create an object of an Image and then use .save() method by passing the name for the image.\n",
    "'''"
   ]
  },
  {
   "cell_type": "code",
   "execution_count": null,
   "id": "705b4964",
   "metadata": {},
   "outputs": [],
   "source": [
    "'''\n",
    "    7. What module contains Pillow’s shape-drawing code?\n",
    "    \n",
    "    Ans - ImageDraw\n",
    "'''\n",
    "from PIL import ImageDraw"
   ]
  },
  {
   "cell_type": "code",
   "execution_count": null,
   "id": "448f85e4",
   "metadata": {},
   "outputs": [],
   "source": [
    "'''\n",
    "    8. Image objects do not have drawing methods. What kind of object does? How do you get this kind\n",
    "    of object?\n",
    "    \n",
    "    Ans - First, we import Image and ImageDraw. Then we create a new image, and store the Image object. \n",
    "    We pass the Image object to the ImageDraw.Draw() function to receive an ImageDraw object\n",
    "'''"
   ]
  }
 ],
 "metadata": {
  "kernelspec": {
   "display_name": "Python 3 (ipykernel)",
   "language": "python",
   "name": "python3"
  },
  "language_info": {
   "codemirror_mode": {
    "name": "ipython",
    "version": 3
   },
   "file_extension": ".py",
   "mimetype": "text/x-python",
   "name": "python",
   "nbconvert_exporter": "python",
   "pygments_lexer": "ipython3",
   "version": "3.9.12"
  }
 },
 "nbformat": 4,
 "nbformat_minor": 5
}
