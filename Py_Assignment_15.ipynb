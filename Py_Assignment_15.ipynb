{
 "cells": [
  {
   "cell_type": "code",
   "execution_count": 1,
   "id": "1e2414cb",
   "metadata": {},
   "outputs": [
    {
     "data": {
      "text/plain": [
       "3600"
      ]
     },
     "execution_count": 1,
     "metadata": {},
     "output_type": "execute_result"
    }
   ],
   "source": [
    "'''\n",
    "    1.How many seconds are in an hour? Use the interactive interpreter as a calculator and multiply the\n",
    "    number of seconds in a minute (60) by the number of minutes in an hour (also 60).\n",
    "'''\n",
    "60 * 60"
   ]
  },
  {
   "cell_type": "code",
   "execution_count": 6,
   "id": "b0ba4a95",
   "metadata": {},
   "outputs": [
    {
     "data": {
      "text/plain": [
       "3600"
      ]
     },
     "execution_count": 6,
     "metadata": {},
     "output_type": "execute_result"
    }
   ],
   "source": [
    "'''\n",
    "    2. Assign the result from the previous task (seconds in an hour) to a variable called\n",
    "    seconds_per_hour.\n",
    "'''\n",
    "seconds_per_hour = 60 * 60\n",
    "seconds_per_hour"
   ]
  },
  {
   "cell_type": "code",
   "execution_count": 3,
   "id": "53bf9832",
   "metadata": {},
   "outputs": [
    {
     "data": {
      "text/plain": [
       "86400"
      ]
     },
     "execution_count": 3,
     "metadata": {},
     "output_type": "execute_result"
    }
   ],
   "source": [
    "'''\n",
    "    3. How many seconds do you think there are in a day? Make use of the variables seconds per hour\n",
    "    and minutes per hour.\n",
    "'''\n",
    "seconds_per_hour * 24"
   ]
  },
  {
   "cell_type": "code",
   "execution_count": 5,
   "id": "0d1801f5",
   "metadata": {},
   "outputs": [
    {
     "data": {
      "text/plain": [
       "86400"
      ]
     },
     "execution_count": 5,
     "metadata": {},
     "output_type": "execute_result"
    }
   ],
   "source": [
    "'''\n",
    "    4. Calculate seconds per day again, but this time save the result in a variable called seconds_per_day\n",
    "'''\n",
    "seconds_per_day = seconds_per_hour * 24\n",
    "seconds_per_day"
   ]
  },
  {
   "cell_type": "code",
   "execution_count": 7,
   "id": "9ef47c0e",
   "metadata": {},
   "outputs": [
    {
     "data": {
      "text/plain": [
       "24.0"
      ]
     },
     "execution_count": 7,
     "metadata": {},
     "output_type": "execute_result"
    }
   ],
   "source": [
    "'''\n",
    "    5. Divide seconds_per_day by seconds_per_hour. Use floating-point (/) division.\n",
    "'''\n",
    "seconds_per_day / seconds_per_hour"
   ]
  },
  {
   "cell_type": "code",
   "execution_count": 8,
   "id": "7a5b9dd0",
   "metadata": {},
   "outputs": [
    {
     "data": {
      "text/plain": [
       "24"
      ]
     },
     "execution_count": 8,
     "metadata": {},
     "output_type": "execute_result"
    }
   ],
   "source": [
    "'''\n",
    "    6. Divide seconds_per_day by seconds_per_hour, using integer (//) division. Did this number agree\n",
    "    with the floating-point value from the previous question, aside from the final .0?\n",
    "    \n",
    "    Ans - Yes\n",
    "'''\n",
    "seconds_per_day // seconds_per_hour"
   ]
  },
  {
   "cell_type": "code",
   "execution_count": 24,
   "id": "0d52ee10",
   "metadata": {},
   "outputs": [],
   "source": [
    "'''\n",
    "    7. Write a generator, genPrimes, that returns the sequence of prime numbers on successive calls to\n",
    "    its next() method: 2, 3, 5, 7, 11, ...\n",
    "'''\n",
    "def genPrimes():\n",
    "    primes = [2]\n",
    "    yield primes[0]\n",
    "    guess = 3\n",
    "    while True:\n",
    "        if all(guess % x != 0 for x in primes):\n",
    "            primes.append(guess)   \n",
    "        if guess == primes[-1]:\n",
    "            yield primes[-1]\n",
    "        guess += 2"
   ]
  },
  {
   "cell_type": "code",
   "execution_count": 25,
   "id": "15b8322d",
   "metadata": {},
   "outputs": [],
   "source": [
    "x = genPrimes()"
   ]
  },
  {
   "cell_type": "code",
   "execution_count": 26,
   "id": "cce69715",
   "metadata": {},
   "outputs": [
    {
     "name": "stdout",
     "output_type": "stream",
     "text": [
      "2\n"
     ]
    }
   ],
   "source": [
    "print(next(x))"
   ]
  },
  {
   "cell_type": "code",
   "execution_count": 27,
   "id": "b8358e3f",
   "metadata": {},
   "outputs": [
    {
     "name": "stdout",
     "output_type": "stream",
     "text": [
      "3\n"
     ]
    }
   ],
   "source": [
    "print(next(x))"
   ]
  },
  {
   "cell_type": "code",
   "execution_count": 28,
   "id": "16122c22",
   "metadata": {},
   "outputs": [
    {
     "name": "stdout",
     "output_type": "stream",
     "text": [
      "5\n"
     ]
    }
   ],
   "source": [
    "print(next(x))"
   ]
  },
  {
   "cell_type": "code",
   "execution_count": 29,
   "id": "aa90605e",
   "metadata": {},
   "outputs": [
    {
     "name": "stdout",
     "output_type": "stream",
     "text": [
      "7\n"
     ]
    }
   ],
   "source": [
    "print(next(x))"
   ]
  },
  {
   "cell_type": "code",
   "execution_count": 30,
   "id": "dca7be48",
   "metadata": {},
   "outputs": [
    {
     "name": "stdout",
     "output_type": "stream",
     "text": [
      "11\n"
     ]
    }
   ],
   "source": [
    "print(next(x))"
   ]
  },
  {
   "cell_type": "code",
   "execution_count": 31,
   "id": "19ef911e",
   "metadata": {},
   "outputs": [
    {
     "name": "stdout",
     "output_type": "stream",
     "text": [
      "13\n"
     ]
    }
   ],
   "source": [
    "print(next(x))"
   ]
  },
  {
   "cell_type": "code",
   "execution_count": 32,
   "id": "92f95eaf",
   "metadata": {},
   "outputs": [
    {
     "name": "stdout",
     "output_type": "stream",
     "text": [
      "17\n"
     ]
    }
   ],
   "source": [
    "print(next(x))"
   ]
  },
  {
   "cell_type": "code",
   "execution_count": 19,
   "id": "d3366d3d",
   "metadata": {},
   "outputs": [
    {
     "name": "stdout",
     "output_type": "stream",
     "text": [
      "19\n"
     ]
    }
   ],
   "source": [
    "print(next(x))"
   ]
  },
  {
   "cell_type": "code",
   "execution_count": null,
   "id": "a18d6c99",
   "metadata": {},
   "outputs": [],
   "source": []
  }
 ],
 "metadata": {
  "kernelspec": {
   "display_name": "Python 3 (ipykernel)",
   "language": "python",
   "name": "python3"
  },
  "language_info": {
   "codemirror_mode": {
    "name": "ipython",
    "version": 3
   },
   "file_extension": ".py",
   "mimetype": "text/x-python",
   "name": "python",
   "nbconvert_exporter": "python",
   "pygments_lexer": "ipython3",
   "version": "3.9.12"
  }
 },
 "nbformat": 4,
 "nbformat_minor": 5
}
