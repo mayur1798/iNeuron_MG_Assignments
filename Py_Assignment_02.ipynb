{
 "cells": [
  {
   "cell_type": "code",
   "execution_count": null,
   "id": "2329e362",
   "metadata": {},
   "outputs": [],
   "source": [
    "'''\n",
    "    1.What are the two values of the Boolean data type? How do you write them?\n",
    "    \n",
    "    Ans - \n",
    "        The 2 values of datatype Boolean are 'True' and 'False'\n",
    "'''"
   ]
  },
  {
   "cell_type": "code",
   "execution_count": null,
   "id": "7ec0bc9c",
   "metadata": {},
   "outputs": [],
   "source": [
    "'''\n",
    "    2. What are the three different types of Boolean operators?\n",
    "    \n",
    "    Ans - \n",
    "        The 3 different types of boolean operators are 'AND', 'OR', 'NOT'\n",
    "'''"
   ]
  },
  {
   "cell_type": "code",
   "execution_count": null,
   "id": "c78106bb",
   "metadata": {},
   "outputs": [],
   "source": [
    "'''\n",
    "    3. Make a list of each Boolean operator's truth tables (i.e. every possible combination of Boolean\n",
    "    values for the operator and what it evaluate ).\n",
    "    \n",
    "    \n",
    "    Ans - \n",
    "            AND                                           OR                                      NOT             \n",
    "        \n",
    "        A   B      Y                                  A    B    Y                                A     Y\n",
    "        ------------                                  -----------                                -------\n",
    "        0   0      0                                  0    0    0                                0     1\n",
    "        0   1      0                                  0    1    1                                1     0\n",
    "        1   0      0                                  1    0    1                                         \n",
    "        1   1      1                                  1    1    1\n",
    "'''"
   ]
  },
  {
   "cell_type": "code",
   "execution_count": null,
   "id": "c1e444e6",
   "metadata": {},
   "outputs": [],
   "source": [
    "'''\n",
    "    4. What are the values of the following expressions?\n",
    "        (5 > 4) and (3 == 5)\n",
    "        not (5 > 4)\n",
    "        (5 > 4) or (3 == 5)\n",
    "        not ((5 > 4) or (3 == 5))\n",
    "        (True and True) and (True == False)\n",
    "        (not False) or (not True)\n",
    "        \n",
    "    \n",
    "    Ans - \n",
    "        (5 > 4) and (3 == 5)                  --> False\n",
    "        not (5 > 4)                           --> False\n",
    "        (5 > 4) or (3 == 5)                   --> True\n",
    "        not ((5 > 4) or (3 == 5))             --> False\n",
    "        (True and True) and (True == False)   --> False\n",
    "        (not False) or (not True)             --> True\n",
    "\n",
    "'''"
   ]
  },
  {
   "cell_type": "code",
   "execution_count": null,
   "id": "0cca3484",
   "metadata": {},
   "outputs": [],
   "source": [
    "'''\n",
    "    5. What are the six comparison operators?\n",
    "    \n",
    "    Ans - \n",
    "        >   -- Greater than\n",
    "        <   -- Lesser than\n",
    "        >=  -- Greater than equal to\n",
    "        <=  -- Lesser than equal to\n",
    "        ==  -- Equals to\n",
    "        !=  -- Not Equals to\n",
    "'''"
   ]
  },
  {
   "cell_type": "code",
   "execution_count": null,
   "id": "bf168359",
   "metadata": {},
   "outputs": [],
   "source": [
    "'''\n",
    "    6. How do you tell the difference between the equal to and assignment operators?Describe a\n",
    "    condition and when you would use one.\n",
    "    \n",
    "    Ans - \n",
    "    Equals to is denoted by (==) and assignment operator is denoted by (=)\n",
    "    Equals to is used when we have to compare a value or variable to another.\n",
    "    Assignment is used when we have to assign a value to a variable.\n",
    "    \n",
    "    Eg:- \n",
    "        -> if(5 == 5):\n",
    "              print('Is equal')\n",
    "        \n",
    "        -> animal = 'dog'\n",
    "'''"
   ]
  },
  {
   "cell_type": "code",
   "execution_count": null,
   "id": "f5da4146",
   "metadata": {},
   "outputs": [],
   "source": [
    "'''\n",
    "    7. Identify the three blocks in this code:\n",
    "        spam = 0\n",
    "        if spam == 10:\n",
    "            print('eggs')\n",
    "        if spam > 5:\n",
    "            print('bacon')\n",
    "        else:\n",
    "            print('ham')\n",
    "            print('spam')\n",
    "            print('spam')\n",
    "'''"
   ]
  },
  {
   "cell_type": "code",
   "execution_count": 4,
   "id": "4280bc52",
   "metadata": {},
   "outputs": [
    {
     "name": "stdout",
     "output_type": "stream",
     "text": [
      "ham\n",
      "spam\n",
      "spam\n"
     ]
    }
   ],
   "source": [
    "# Ans - \n",
    "'''\n",
    "    We declare a variable called spam and assign 0 to it. Then we check the conditions i.e., if spam equals to 10 then print \n",
    "    'eggs'. Again if spam is greater than 5 print 'bacon' else print 'ham' 'spam' 'spam'\n",
    "    \n",
    "'''\n",
    "spam = 0\n",
    "if spam == 10:\n",
    "    print('eggs')\n",
    "if spam > 5:\n",
    "    print('bacon')\n",
    "else:\n",
    "    print('ham')\n",
    "    print('spam')\n",
    "    print('spam')"
   ]
  },
  {
   "cell_type": "code",
   "execution_count": null,
   "id": "39c729d0",
   "metadata": {},
   "outputs": [],
   "source": [
    "'''\n",
    "    8. Write code that prints Hello if 1 is stored in spam, prints Howdy if 2 is stored in spam, and prints\n",
    "    Greetings! if anything else is stored in spam.\n",
    "'''"
   ]
  },
  {
   "cell_type": "code",
   "execution_count": 8,
   "id": "1a0792c3",
   "metadata": {},
   "outputs": [
    {
     "name": "stdout",
     "output_type": "stream",
     "text": [
      "Hello\n"
     ]
    }
   ],
   "source": [
    "# Ans - \n",
    "spam = 1\n",
    "if spam == 1:\n",
    "    print('Hello')\n",
    "elif spam == 2:\n",
    "    print('Howdy')\n",
    "else:\n",
    "    print('Greetings!')"
   ]
  },
  {
   "cell_type": "code",
   "execution_count": null,
   "id": "bed2f1c4",
   "metadata": {},
   "outputs": [],
   "source": [
    "'''\n",
    "    9.If your programme is stuck in an endless loop, what keys you’ll press?\n",
    "    \n",
    "    Ans - \n",
    "        Ctrl + C\n",
    "'''"
   ]
  },
  {
   "cell_type": "code",
   "execution_count": null,
   "id": "561fc5b3",
   "metadata": {},
   "outputs": [],
   "source": [
    "'''\n",
    "    10. How can you tell the difference between break and continue?\n",
    "    \n",
    "    Ans - \n",
    "        Break is used to get out of the loop if the condition is satisfied.\n",
    "        In continue if the condition satisfies then that current iteration is skipped and the loops continue.\n",
    "'''"
   ]
  },
  {
   "cell_type": "code",
   "execution_count": null,
   "id": "b1e9119c",
   "metadata": {},
   "outputs": [],
   "source": [
    "'''\n",
    "    11. In a for loop, what is the difference between range(10), range(0, 10), and range(0, 10, 1)?\n",
    "    \n",
    "    Ans - \n",
    "        range(10)      --> provides a range from 0 to 10, here the start argument is not provided\n",
    "        range(0,10)    --> same as above, provides a range from 0 to 10, here the start argument is provided\n",
    "        range(0,10,1)  --> provides a range from 0 to 10 but in steps of 1, here the start, stop and step argument is provided\n",
    "'''"
   ]
  },
  {
   "cell_type": "code",
   "execution_count": null,
   "id": "67d948b2",
   "metadata": {},
   "outputs": [],
   "source": [
    "'''\n",
    "    12. Write a short program that prints the numbers 1 to 10 using a for loop. Then write an equivalent\n",
    "    program that prints the numbers 1 to 10 using a while loop.\n",
    "'''"
   ]
  },
  {
   "cell_type": "code",
   "execution_count": 16,
   "id": "f6a1dc11",
   "metadata": {},
   "outputs": [
    {
     "name": "stdout",
     "output_type": "stream",
     "text": [
      "1\n",
      "2\n",
      "3\n",
      "4\n",
      "5\n",
      "6\n",
      "7\n",
      "8\n",
      "9\n",
      "10\n"
     ]
    }
   ],
   "source": [
    "# Ans - \n",
    "for i in range(1,11):\n",
    "    print(i)"
   ]
  },
  {
   "cell_type": "code",
   "execution_count": 17,
   "id": "de46599b",
   "metadata": {},
   "outputs": [
    {
     "name": "stdout",
     "output_type": "stream",
     "text": [
      "1\n",
      "2\n",
      "3\n",
      "4\n",
      "5\n",
      "6\n",
      "7\n",
      "8\n",
      "9\n",
      "10\n"
     ]
    }
   ],
   "source": [
    "i = 1\n",
    "while i <= 10:\n",
    "    print(i)\n",
    "    i += 1"
   ]
  },
  {
   "cell_type": "code",
   "execution_count": null,
   "id": "b0799fba",
   "metadata": {},
   "outputs": [],
   "source": [
    "'''\n",
    "    13. If you had a function named bacon() inside a module named spam, how would you call it after\n",
    "    importing spam?\n",
    "'''"
   ]
  },
  {
   "cell_type": "code",
   "execution_count": null,
   "id": "514a3d8f",
   "metadata": {},
   "outputs": [],
   "source": [
    "# Ans - \n",
    "import spam \n",
    "\n",
    "spam.bacon()"
   ]
  }
 ],
 "metadata": {
  "kernelspec": {
   "display_name": "Python 3 (ipykernel)",
   "language": "python",
   "name": "python3"
  },
  "language_info": {
   "codemirror_mode": {
    "name": "ipython",
    "version": 3
   },
   "file_extension": ".py",
   "mimetype": "text/x-python",
   "name": "python",
   "nbconvert_exporter": "python",
   "pygments_lexer": "ipython3",
   "version": "3.9.12"
  }
 },
 "nbformat": 4,
 "nbformat_minor": 5
}
