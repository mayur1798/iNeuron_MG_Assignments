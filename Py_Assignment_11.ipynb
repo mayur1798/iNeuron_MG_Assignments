{
 "cells": [
  {
   "cell_type": "code",
   "execution_count": 3,
   "id": "99963a52",
   "metadata": {},
   "outputs": [
    {
     "ename": "AssertionError",
     "evalue": "Spam is not greater than zero",
     "output_type": "error",
     "traceback": [
      "\u001b[1;31m---------------------------------------------------------------------------\u001b[0m",
      "\u001b[1;31mAssertionError\u001b[0m                            Traceback (most recent call last)",
      "Input \u001b[1;32mIn [3]\u001b[0m, in \u001b[0;36m<cell line: 8>\u001b[1;34m()\u001b[0m\n\u001b[0;32m      1\u001b[0m \u001b[38;5;124;03m'''\u001b[39;00m\n\u001b[0;32m      2\u001b[0m \u001b[38;5;124;03m    1. Create an assert statement that throws an AssertionError if the variable spam is a negative\u001b[39;00m\n\u001b[0;32m      3\u001b[0m \u001b[38;5;124;03m    integer.\u001b[39;00m\n\u001b[0;32m      4\u001b[0m \n\u001b[0;32m      5\u001b[0m \u001b[38;5;124;03m'''\u001b[39;00m\n\u001b[0;32m      6\u001b[0m spam \u001b[38;5;241m=\u001b[39m \u001b[38;5;241m-\u001b[39m\u001b[38;5;241m10\u001b[39m\n\u001b[1;32m----> 8\u001b[0m \u001b[38;5;28;01massert\u001b[39;00m spam \u001b[38;5;241m>\u001b[39m\u001b[38;5;241m=\u001b[39m \u001b[38;5;241m0\u001b[39m, \u001b[38;5;124m'\u001b[39m\u001b[38;5;124mSpam is not greater than zero\u001b[39m\u001b[38;5;124m'\u001b[39m\n\u001b[0;32m      9\u001b[0m \u001b[38;5;28mprint\u001b[39m(spam)\n",
      "\u001b[1;31mAssertionError\u001b[0m: Spam is not greater than zero"
     ]
    }
   ],
   "source": [
    "'''\n",
    "    1. Create an assert statement that throws an AssertionError if the variable spam is a negative\n",
    "    integer.\n",
    "\n",
    "'''\n",
    "spam = -10\n",
    "\n",
    "assert spam >= 0, 'Spam is not greater than zero'\n",
    "print(spam)"
   ]
  },
  {
   "cell_type": "code",
   "execution_count": 4,
   "id": "216a3fee",
   "metadata": {},
   "outputs": [
    {
     "name": "stdout",
     "output_type": "stream",
     "text": [
      "10\n"
     ]
    }
   ],
   "source": [
    "spam = 10\n",
    "\n",
    "assert spam >= 0, 'Spam is not greater than zero'\n",
    "print(spam)"
   ]
  },
  {
   "cell_type": "code",
   "execution_count": 7,
   "id": "c2401046",
   "metadata": {},
   "outputs": [
    {
     "ename": "AssertionError",
     "evalue": "They are the same words",
     "output_type": "error",
     "traceback": [
      "\u001b[1;31m---------------------------------------------------------------------------\u001b[0m",
      "\u001b[1;31mAssertionError\u001b[0m                            Traceback (most recent call last)",
      "Input \u001b[1;32mIn [7]\u001b[0m, in \u001b[0;36m<cell line: 10>\u001b[1;34m()\u001b[0m\n\u001b[0;32m      7\u001b[0m bacon \u001b[38;5;241m=\u001b[39m \u001b[38;5;124m'\u001b[39m\u001b[38;5;124mHeLLo\u001b[39m\u001b[38;5;124m'\u001b[39m\n\u001b[0;32m      8\u001b[0m eggs \u001b[38;5;241m=\u001b[39m \u001b[38;5;124m'\u001b[39m\u001b[38;5;124mhello\u001b[39m\u001b[38;5;124m'\u001b[39m\n\u001b[1;32m---> 10\u001b[0m \u001b[38;5;28;01massert\u001b[39;00m bacon\u001b[38;5;241m.\u001b[39mlower() \u001b[38;5;241m!=\u001b[39m eggs\u001b[38;5;241m.\u001b[39mlower(), \u001b[38;5;124m'\u001b[39m\u001b[38;5;124mThey are the same words\u001b[39m\u001b[38;5;124m'\u001b[39m\n\u001b[0;32m     11\u001b[0m \u001b[38;5;28mprint\u001b[39m(bacon)\n\u001b[0;32m     12\u001b[0m \u001b[38;5;28mprint\u001b[39m(eggs)\n",
      "\u001b[1;31mAssertionError\u001b[0m: They are the same words"
     ]
    }
   ],
   "source": [
    "'''\n",
    "    2. Write an assert statement that triggers an AssertionError if the variables eggs and bacon contain strings that are\n",
    "    the same as each other, even if their cases are different (that is, 'hello' and 'hello' are considered the same, \n",
    "    and'goodbye' and 'GOODbye' are also considered the same).\n",
    "\n",
    "'''\n",
    "bacon = 'HeLLo'\n",
    "eggs = 'hello'\n",
    "\n",
    "assert bacon.lower() != eggs.lower(), 'They are the same words'\n",
    "print(bacon)\n",
    "print(eggs)"
   ]
  },
  {
   "cell_type": "code",
   "execution_count": 9,
   "id": "c5cd728e",
   "metadata": {},
   "outputs": [
    {
     "ename": "AssertionError",
     "evalue": "This assertion always triggers",
     "output_type": "error",
     "traceback": [
      "\u001b[1;31m---------------------------------------------------------------------------\u001b[0m",
      "\u001b[1;31mAssertionError\u001b[0m                            Traceback (most recent call last)",
      "Input \u001b[1;32mIn [9]\u001b[0m, in \u001b[0;36m<cell line: 6>\u001b[1;34m()\u001b[0m\n\u001b[0;32m      1\u001b[0m \u001b[38;5;124;03m'''\u001b[39;00m\n\u001b[0;32m      2\u001b[0m \u001b[38;5;124;03m    3. Create an assert statement that throws an AssertionError every time.\u001b[39;00m\n\u001b[0;32m      3\u001b[0m \n\u001b[0;32m      4\u001b[0m \u001b[38;5;124;03m'''\u001b[39;00m\n\u001b[1;32m----> 6\u001b[0m \u001b[38;5;28;01massert\u001b[39;00m \u001b[38;5;28;01mFalse\u001b[39;00m, \u001b[38;5;124m'\u001b[39m\u001b[38;5;124mThis assertion always triggers\u001b[39m\u001b[38;5;124m'\u001b[39m\n",
      "\u001b[1;31mAssertionError\u001b[0m: This assertion always triggers"
     ]
    }
   ],
   "source": [
    "'''\n",
    "    3. Create an assert statement that throws an AssertionError every time.\n",
    "\n",
    "'''\n",
    "assert False, 'This assertion always triggers'"
   ]
  },
  {
   "cell_type": "code",
   "execution_count": 10,
   "id": "6620d385",
   "metadata": {},
   "outputs": [
    {
     "name": "stderr",
     "output_type": "stream",
     "text": [
      "root - DEBUG - This will get logged\n"
     ]
    }
   ],
   "source": [
    "'''\n",
    "    4. What are the two lines that must be present in your software in order to call logging.debug()?\n",
    "\n",
    "'''\n",
    "import logging\n",
    "logging.basicConfig(level=logging.DEBUG, format='%(name)s - %(levelname)s - %(message)s')\n",
    "logging.debug('This will get logged')"
   ]
  },
  {
   "cell_type": "code",
   "execution_count": 14,
   "id": "b7add2fa",
   "metadata": {},
   "outputs": [
    {
     "name": "stderr",
     "output_type": "stream",
     "text": [
      "root - DEBUG - This will get logged\n"
     ]
    }
   ],
   "source": [
    "'''\n",
    "    5. What are the two lines that your program must have in order to have logging.debug() send a\n",
    "    logging message to a file named programLog.txt?\n",
    "\n",
    "'''\n",
    "import logging\n",
    "logging.basicConfig( filename='programLog.txt', level=logging.DEBUG, format='%(name)s - %(levelname)s - %(message)s')\n",
    "logging.debug('This will get logged')"
   ]
  },
  {
   "cell_type": "code",
   "execution_count": null,
   "id": "74e19fa6",
   "metadata": {},
   "outputs": [],
   "source": [
    "'''\n",
    "    6. What are the five levels of logging?\n",
    "    \n",
    "    Ans - \n",
    "        DEBUG\n",
    "        INFO\n",
    "        WARNING\n",
    "        ERROR\n",
    "        CRITICAL\n",
    "'''"
   ]
  },
  {
   "cell_type": "code",
   "execution_count": null,
   "id": "94cae7d4",
   "metadata": {},
   "outputs": [],
   "source": [
    "'''\n",
    "    7. What line of code would you add to your software to disable all logging messages?\n",
    "\n",
    "'''\n",
    "\n",
    "logging.disable(logging.CRITICAL)"
   ]
  },
  {
   "cell_type": "code",
   "execution_count": null,
   "id": "7137419c",
   "metadata": {},
   "outputs": [],
   "source": [
    "'''\n",
    "    8.Why is using logging messages better than using print() to display the same message?\n",
    "\n",
    "    Ans -\n",
    "        Logging messages provide a time stamp ny tracking the events and status of the application while it runs. \n",
    "        print() method cannot be used for complex programs. The problem with printing is that the prints are not stored anywhere. \n",
    "'''"
   ]
  },
  {
   "cell_type": "code",
   "execution_count": null,
   "id": "64ba8613",
   "metadata": {},
   "outputs": [],
   "source": [
    "'''\n",
    "    9. What are the differences between the Step Over, Step In, and Step Out buttons in the debugger?\n",
    "    \n",
    "    Ans - \n",
    "        The Step Into is used for debugging the steps line by line.\n",
    "        The Step Over is used for debugging the steps line by line, but when the entire procedure is called it will execute in a single step. \n",
    "        The Step Out  will quickly execute the rest of the code until it steps out of the function it currently is in.\n",
    "\n",
    "'''"
   ]
  },
  {
   "cell_type": "code",
   "execution_count": null,
   "id": "29254949",
   "metadata": {},
   "outputs": [],
   "source": [
    "'''\n",
    "    10.After you click Continue, when will the debugger stop ?\n",
    "    \n",
    "    Ans - \n",
    "        After the entire steps are debugged or when the cursor reaches the end of the brealpoint.\n",
    "'''"
   ]
  },
  {
   "cell_type": "code",
   "execution_count": null,
   "id": "3c4ff489",
   "metadata": {},
   "outputs": [],
   "source": [
    "'''\n",
    "    11. What is the concept of a breakpoint?\n",
    "    \n",
    "    Ans - \n",
    "        Breakpoints are used to debug a particular portion of the code to check its functionality.\n",
    "'''"
   ]
  }
 ],
 "metadata": {
  "kernelspec": {
   "display_name": "Python 3 (ipykernel)",
   "language": "python",
   "name": "python3"
  },
  "language_info": {
   "codemirror_mode": {
    "name": "ipython",
    "version": 3
   },
   "file_extension": ".py",
   "mimetype": "text/x-python",
   "name": "python",
   "nbconvert_exporter": "python",
   "pygments_lexer": "ipython3",
   "version": "3.9.12"
  }
 },
 "nbformat": 4,
 "nbformat_minor": 5
}
