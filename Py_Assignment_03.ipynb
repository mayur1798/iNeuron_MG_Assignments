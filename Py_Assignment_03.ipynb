{
 "cells": [
  {
   "cell_type": "code",
   "execution_count": null,
   "id": "6031c1dc",
   "metadata": {},
   "outputs": [],
   "source": [
    "'''\n",
    "    1. Why are functions advantageous to have in your programs?\n",
    "    \n",
    "    Ans - \n",
    "        Functions are used in order to prevent writing multiple lines of code to perfrom the same task. They are used to prevent \n",
    "        duplication of code. It makes them easier to call and update.\n",
    "'''"
   ]
  },
  {
   "cell_type": "code",
   "execution_count": null,
   "id": "e83c7bf4",
   "metadata": {},
   "outputs": [],
   "source": [
    "'''\n",
    "    2. When does the code in a function run: when it's specified or when it's called?\n",
    "    \n",
    "    Ans - \n",
    "        The code in the function runs when it's called.\n",
    "'''"
   ]
  },
  {
   "cell_type": "code",
   "execution_count": null,
   "id": "9816d694",
   "metadata": {},
   "outputs": [],
   "source": [
    "'''\n",
    "    3. What statement creates a function?\n",
    "    \n",
    "    Ans - \n",
    "        keyword def is used to create a function\n",
    "        \n",
    "        Eg - \n",
    "            def functionName():\n",
    "                pass\n",
    "'''"
   ]
  },
  {
   "cell_type": "code",
   "execution_count": null,
   "id": "272f5667",
   "metadata": {},
   "outputs": [],
   "source": [
    "'''\n",
    "    4. What is the difference between a function and a function call?\n",
    "    \n",
    "    Ans - \n",
    "        A function is a block of code created to perform certain actions.\n",
    "        A function call is used when we need to call that particular function.\n",
    "'''"
   ]
  },
  {
   "cell_type": "code",
   "execution_count": null,
   "id": "dd9b1b64",
   "metadata": {},
   "outputs": [],
   "source": [
    "'''\n",
    "    5. How many global scopes are there in a Python program? How many local scopes?\n",
    "    \n",
    "    Ans - \n",
    "        Global scopes - global scope and built-in scope\n",
    "        Local scopes  - local scope and enclosing scope\n",
    "'''"
   ]
  },
  {
   "cell_type": "code",
   "execution_count": null,
   "id": "ef4970fc",
   "metadata": {},
   "outputs": [],
   "source": [
    "'''\n",
    "    6. What happens to variables in a local scope when the function call returns?\n",
    "    \n",
    "    Ans - \n",
    "        When the function call is returned then the local variable is destroyed and again when function call takes place then\n",
    "        the local variable is created again.\n",
    "'''"
   ]
  },
  {
   "cell_type": "code",
   "execution_count": null,
   "id": "cc00ad65",
   "metadata": {},
   "outputs": [],
   "source": [
    "'''\n",
    "    7. What is the concept of a return value? Is it possible to have a return value in an expression?\n",
    "    \n",
    "    Ans - \n",
    "        Return is a keyword which is used in functions to return a value after execution of the function block.\n",
    "        Yes it is possible to have a return value in an expression.\n",
    "        \n",
    "        Eg - \n",
    "            def sample():\n",
    "                return 4\n",
    "            \n",
    "            sample() * 2\n",
    "            \n",
    "            // 8\n",
    "'''"
   ]
  },
  {
   "cell_type": "code",
   "execution_count": null,
   "id": "e3d33809",
   "metadata": {},
   "outputs": [],
   "source": [
    "'''\n",
    "    8. If a function does not have a return statement, what is the return value of a call to that function?\n",
    "    \n",
    "    Ans - \n",
    "        None\n",
    "'''"
   ]
  },
  {
   "cell_type": "code",
   "execution_count": null,
   "id": "70608401",
   "metadata": {},
   "outputs": [],
   "source": [
    "'''\n",
    "    9. How do you make a function variable refer to the global variable?\n",
    "    \n",
    "    Ans - \n",
    "        To make a local variable refer to as global variable we use the keyword global.\n",
    "        \n",
    "        Eg - \n",
    "            def someFunc():\n",
    "                global animal\n",
    "                animal = \"dog\"\n",
    "            \n",
    "            someFunc()            \n",
    "            print('This is a ' + animal)\n",
    "            \n",
    "            // This is a dog\n",
    "'''"
   ]
  },
  {
   "cell_type": "code",
   "execution_count": null,
   "id": "7cd96bbe",
   "metadata": {},
   "outputs": [],
   "source": [
    "'''\n",
    "    10. What is the data type of None?\n",
    "    \n",
    "    Ans - \n",
    "        Datatype of None is NoneType. It is used to define null values or objects.\n",
    "'''"
   ]
  },
  {
   "cell_type": "code",
   "execution_count": null,
   "id": "e5215470",
   "metadata": {},
   "outputs": [],
   "source": [
    "'''\n",
    "    11. What does the sentence import areallyourpetsnamederic do?\n",
    "    \n",
    "    Ans - \n",
    "        It imports a module called as areallyourpetsnamederic by which we can use the functions which are created \n",
    "        within that module.\n",
    "'''"
   ]
  },
  {
   "cell_type": "code",
   "execution_count": null,
   "id": "bb43f846",
   "metadata": {},
   "outputs": [],
   "source": [
    "'''\n",
    "    12. If you had a bacon() feature in a spam module, what would you call it after importing spam?\n",
    "    \n",
    "    Ans - \n",
    "        import spam\n",
    "        \n",
    "        spam.bacon()\n",
    "'''"
   ]
  },
  {
   "cell_type": "code",
   "execution_count": null,
   "id": "7bb2f599",
   "metadata": {},
   "outputs": [],
   "source": [
    "'''\n",
    "    13. What can you do to save a programme from crashing if it encounters an error?\n",
    "    \n",
    "    Ans - \n",
    "        We have to use Exception Handling by using the try & except clause.\n",
    "'''"
   ]
  },
  {
   "cell_type": "code",
   "execution_count": null,
   "id": "4adc080e",
   "metadata": {},
   "outputs": [],
   "source": [
    "'''\n",
    "    14. What is the purpose of the try clause? What is the purpose of the except clause?\n",
    "    \n",
    "    Ans - \n",
    "        Try clause is used when we have to run a block of code. And except clause is used to catch any exceptions \n",
    "        that are thrown from the try block.\n",
    "        \n",
    "        Eg - \n",
    "            try:\n",
    "                x = 0\n",
    "                if 10 // x :\n",
    "                    print('Division is possible')\n",
    "            except ZeroDivisionError:\n",
    "                print('Oops! division is not possible')\n",
    "'''"
   ]
  }
 ],
 "metadata": {
  "kernelspec": {
   "display_name": "Python 3 (ipykernel)",
   "language": "python",
   "name": "python3"
  },
  "language_info": {
   "codemirror_mode": {
    "name": "ipython",
    "version": 3
   },
   "file_extension": ".py",
   "mimetype": "text/x-python",
   "name": "python",
   "nbconvert_exporter": "python",
   "pygments_lexer": "ipython3",
   "version": "3.9.12"
  }
 },
 "nbformat": 4,
 "nbformat_minor": 5
}
