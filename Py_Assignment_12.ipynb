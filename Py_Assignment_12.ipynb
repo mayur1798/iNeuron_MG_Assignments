{
 "cells": [
  {
   "cell_type": "code",
   "execution_count": null,
   "id": "04e147d3",
   "metadata": {},
   "outputs": [],
   "source": [
    "'''\n",
    "    1. In what modes should the PdfFileReader() and PdfFileWriter() File objects will be opened?  \n",
    "    \n",
    "    Ans - 'rb' for PdfFileReader()\n",
    "          'rw' for PdfFileWriter()\n",
    "'''"
   ]
  },
  {
   "cell_type": "code",
   "execution_count": null,
   "id": "d5b8d2e0",
   "metadata": {},
   "outputs": [],
   "source": [
    "'''\n",
    "    2. From a PdfFileReader object, how do you get a Page object for page 5?\n",
    "    \n",
    "    Ans - Calling getPage(4)\n",
    "'''\n",
    "getPage(4)"
   ]
  },
  {
   "cell_type": "code",
   "execution_count": null,
   "id": "d330e648",
   "metadata": {},
   "outputs": [],
   "source": [
    "'''\n",
    "    3. What PdfFileReader variable stores the number of pages in the PDF document?\n",
    "    \n",
    "    Ans - numPages stores the integer of no of pages in the PDF document\n",
    "'''"
   ]
  },
  {
   "cell_type": "code",
   "execution_count": null,
   "id": "c511999a",
   "metadata": {},
   "outputs": [],
   "source": [
    "'''\n",
    "    4. If a PdfFileReader object’s PDF is encrypted with the password swordfish, what must you do\n",
    "    before you can obtain Page objects from it?\n",
    "    \n",
    "    Ans - Call decrypt('swordfish')\n",
    "\n",
    "'''\n",
    "decrypt('swordfish')"
   ]
  },
  {
   "cell_type": "code",
   "execution_count": null,
   "id": "64a04603",
   "metadata": {},
   "outputs": [],
   "source": [
    "'''\n",
    "    5. What methods do you use to rotate a page?\n",
    "    \n",
    "    Ans - Call page object rotateClockwise(rotation)\n",
    "'''"
   ]
  },
  {
   "cell_type": "code",
   "execution_count": null,
   "id": "5fded8bd",
   "metadata": {},
   "outputs": [],
   "source": [
    "'''\n",
    "    6. What is the difference between a Run object and a Paragraph object?\n",
    "    \n",
    "    Ans - Runs are contiguous groups of characters within the a paragraph.\n",
    "          A paragraph begins on a new line and contains multiple runs.           \n",
    "'''"
   ]
  },
  {
   "cell_type": "code",
   "execution_count": null,
   "id": "1f65127d",
   "metadata": {},
   "outputs": [],
   "source": [
    "'''\n",
    "    7. How do you obtain a list of Paragraph objects for a Document object that’s stored in a variable\n",
    "    named doc?\n",
    "    \n",
    "    Ans - doc.paragraphs[0].text for the first text attribute.\n",
    "'''\n",
    "doc.paragraphs[0].text"
   ]
  },
  {
   "cell_type": "code",
   "execution_count": null,
   "id": "23b14ce2",
   "metadata": {},
   "outputs": [],
   "source": [
    "'''\n",
    "    8. What type of object has bold, underline, italic, strike, and outline variables?\n",
    "    \n",
    "    Ans - Run Object\n",
    "'''"
   ]
  },
  {
   "cell_type": "code",
   "execution_count": null,
   "id": "b459b3a1",
   "metadata": {},
   "outputs": [],
   "source": [
    "'''\n",
    "    9. What is the difference between False, True, and None for the bold variable?\n",
    "    \n",
    "    Ans - True --> The text appears in bold always\n",
    "          False --> The text does not appear in bold.\n",
    "          None --> The text appears to the default run's style\n",
    "'''"
   ]
  },
  {
   "cell_type": "code",
   "execution_count": null,
   "id": "7aa5e89a",
   "metadata": {},
   "outputs": [],
   "source": [
    "'''\n",
    "    10. How do you create a Document object for a new Word document?\n",
    "    \n",
    "    ANs - docx.Document()\n",
    "'''\n",
    "docx.Document()"
   ]
  },
  {
   "cell_type": "code",
   "execution_count": null,
   "id": "a7ba73f9",
   "metadata": {},
   "outputs": [],
   "source": [
    "'''\n",
    "    11. How do you add a paragraph with the text 'Hello, there!' to a Document object stored in a\n",
    "    variable named doc?\n",
    "    \n",
    "    Ans - doc.add_paragraph('Hello there!')\n",
    "'''\n",
    "doc.add_paragraph('Hello there!')"
   ]
  },
  {
   "cell_type": "code",
   "execution_count": null,
   "id": "930c8778",
   "metadata": {},
   "outputs": [],
   "source": [
    "'''\n",
    "    12. What integers represent the levels of headings available in Word documents?\n",
    "    \n",
    "    Ans - Heading 0, 1, 2, 3, 4\n",
    "'''"
   ]
  }
 ],
 "metadata": {
  "kernelspec": {
   "display_name": "Python 3 (ipykernel)",
   "language": "python",
   "name": "python3"
  },
  "language_info": {
   "codemirror_mode": {
    "name": "ipython",
    "version": 3
   },
   "file_extension": ".py",
   "mimetype": "text/x-python",
   "name": "python",
   "nbconvert_exporter": "python",
   "pygments_lexer": "ipython3",
   "version": "3.9.12"
  }
 },
 "nbformat": 4,
 "nbformat_minor": 5
}
