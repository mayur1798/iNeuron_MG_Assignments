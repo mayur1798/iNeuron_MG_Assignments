{
 "cells": [
  {
   "cell_type": "code",
   "execution_count": null,
   "id": "f5a0665d",
   "metadata": {},
   "outputs": [],
   "source": [
    "'''\n",
    "    1. What are escape characters, and how do you use them?\n",
    "    \n",
    "    Ans -\n",
    "        Escape characters are used in a string when certain characters are difficult to use.\n",
    "        Eg - \\n, \\t, \\'\n",
    "    \n",
    "'''"
   ]
  },
  {
   "cell_type": "code",
   "execution_count": null,
   "id": "feb1f13c",
   "metadata": {},
   "outputs": [],
   "source": [
    "'''\n",
    "    2. What do the escape characters n and t stand for?\n",
    "    \n",
    "    Ans - \n",
    "        \\n is for new line\n",
    "        \\t is for tab spaces\n",
    "'''"
   ]
  },
  {
   "cell_type": "code",
   "execution_count": 2,
   "id": "5bba0453",
   "metadata": {},
   "outputs": [
    {
     "name": "stdout",
     "output_type": "stream",
     "text": [
      "I attend \"iNeuron\" classes\n"
     ]
    }
   ],
   "source": [
    "'''\n",
    "    3. What is the way to include backslash characters in a string?\n",
    "    \n",
    "    Ans - \n",
    "        Example provided below\n",
    "'''\n",
    "txt = \"I attend \\\"iNeuron\\\" classes\"\n",
    "print(txt) "
   ]
  },
  {
   "cell_type": "code",
   "execution_count": 3,
   "id": "3a11704a",
   "metadata": {},
   "outputs": [
    {
     "name": "stdout",
     "output_type": "stream",
     "text": [
      "Howl's Moving Castle\n"
     ]
    }
   ],
   "source": [
    "'''\n",
    "    4. The string \"Howl's Moving Castle\" is a correct value. Why isn't the single quote character in the\n",
    "       word Howl's not escaped a problem?\n",
    "    \n",
    "    Ans - \n",
    "        The statment is a correct value because single apostrophe used within double apostrophe to mark the start and end \n",
    "        of the string.\n",
    "'''\n",
    "txt = \"Howl's Moving Castle\"\n",
    "print(txt)"
   ]
  },
  {
   "cell_type": "code",
   "execution_count": 5,
   "id": "3c26d0ed",
   "metadata": {},
   "outputs": [
    {
     "name": "stdout",
     "output_type": "stream",
     "text": [
      "\n",
      "cat\n",
      "dog\n",
      "mouse\n",
      "\n"
     ]
    }
   ],
   "source": [
    "'''\n",
    "    5. How do you write a string of newlines if you don't want to use the n character?\n",
    "    \n",
    "    Ans - \n",
    "        We can use mulitple print statements consecutively or we can use triple quotes as shown below\n",
    "'''\n",
    "print('''\n",
    "cat\n",
    "dog\n",
    "mouse\n",
    "''')"
   ]
  },
  {
   "cell_type": "code",
   "execution_count": 10,
   "id": "61956f62",
   "metadata": {},
   "outputs": [
    {
     "data": {
      "text/plain": [
       "'e'"
      ]
     },
     "execution_count": 10,
     "metadata": {},
     "output_type": "execute_result"
    }
   ],
   "source": [
    "'''\n",
    "    6. What are the values of the given expressions?\n",
    "        'Hello, world!'[1]\n",
    "        'Hello, world!'[0:5]\n",
    "        'Hello, world!'[:5]\n",
    "        'Hello, world!'[3:]\n",
    "        \n",
    "        Ans - \n",
    "            'Hello, world!'[1] - e\n",
    "            'Hello, world!'[0:5] - Hello\n",
    "            'Hello, world!'[:5] - Hello\n",
    "            'Hello, world!'[3:] - lo, world!\n",
    "\n",
    "'''\n",
    "'Hello, world!'[1]\n"
   ]
  },
  {
   "cell_type": "code",
   "execution_count": 11,
   "id": "46a5288e",
   "metadata": {},
   "outputs": [
    {
     "data": {
      "text/plain": [
       "'Hello'"
      ]
     },
     "execution_count": 11,
     "metadata": {},
     "output_type": "execute_result"
    }
   ],
   "source": [
    "'Hello, world!'[0:5]\n"
   ]
  },
  {
   "cell_type": "code",
   "execution_count": 12,
   "id": "e167b217",
   "metadata": {},
   "outputs": [
    {
     "data": {
      "text/plain": [
       "'Hello'"
      ]
     },
     "execution_count": 12,
     "metadata": {},
     "output_type": "execute_result"
    }
   ],
   "source": [
    "'Hello, world!'[:5]\n"
   ]
  },
  {
   "cell_type": "code",
   "execution_count": 13,
   "id": "2a8d4af1",
   "metadata": {},
   "outputs": [
    {
     "data": {
      "text/plain": [
       "'lo, world!'"
      ]
     },
     "execution_count": 13,
     "metadata": {},
     "output_type": "execute_result"
    }
   ],
   "source": [
    "'Hello, world!'[3:]"
   ]
  },
  {
   "cell_type": "code",
   "execution_count": 14,
   "id": "cf36ba60",
   "metadata": {},
   "outputs": [
    {
     "data": {
      "text/plain": [
       "'HELLO'"
      ]
     },
     "execution_count": 14,
     "metadata": {},
     "output_type": "execute_result"
    }
   ],
   "source": [
    "'''\n",
    "    7. What are the values of the following expressions?\n",
    "        'Hello'.upper()\n",
    "        'Hello'.upper().isupper()\n",
    "        'Hello'.upper().lower()\n",
    "        \n",
    "       Ans - \n",
    "        'Hello'.upper() - 'HELLO'\n",
    "        'Hello'.upper().isupper() - True\n",
    "        'Hello'.upper().lower() - 'hello'\n",
    "\n",
    "'''\n",
    "'Hello'.upper()"
   ]
  },
  {
   "cell_type": "code",
   "execution_count": 15,
   "id": "467c4c17",
   "metadata": {},
   "outputs": [
    {
     "data": {
      "text/plain": [
       "True"
      ]
     },
     "execution_count": 15,
     "metadata": {},
     "output_type": "execute_result"
    }
   ],
   "source": [
    "'Hello'.upper().isupper()"
   ]
  },
  {
   "cell_type": "code",
   "execution_count": 16,
   "id": "ded200de",
   "metadata": {},
   "outputs": [
    {
     "data": {
      "text/plain": [
       "'hello'"
      ]
     },
     "execution_count": 16,
     "metadata": {},
     "output_type": "execute_result"
    }
   ],
   "source": [
    "'Hello'.upper().lower()"
   ]
  },
  {
   "cell_type": "code",
   "execution_count": 21,
   "id": "76059d0b",
   "metadata": {},
   "outputs": [
    {
     "data": {
      "text/plain": [
       "'There-can-only-one.'"
      ]
     },
     "execution_count": 21,
     "metadata": {},
     "output_type": "execute_result"
    }
   ],
   "source": [
    "'''\n",
    "    8. What are the values of the following expressions?\n",
    "        'Remember, remember, the fifth of July.'.split() \n",
    "        '-'.join('There can only one.'.split())\n",
    "        \n",
    "        Ans - \n",
    "            'There-can-only-one.'\n",
    "\n",
    "'''\n",
    "'Remember, remember, the fifth of July.'.split() \n",
    "'-'.join('There can only one.'.split())\n"
   ]
  },
  {
   "cell_type": "code",
   "execution_count": null,
   "id": "f68963b4",
   "metadata": {},
   "outputs": [],
   "source": [
    "'''\n",
    "    9. What are the methods for right-justifying, left-justifying, and centering a string?\n",
    "    \n",
    "    Ans - \n",
    "        ljust() - For left align\n",
    "        rjust() - For right align\n",
    "        center() - For center align\n",
    "'''"
   ]
  },
  {
   "cell_type": "code",
   "execution_count": 24,
   "id": "9c721201",
   "metadata": {},
   "outputs": [
    {
     "name": "stdout",
     "output_type": "stream",
     "text": [
      "Hello! How are you?\n"
     ]
    }
   ],
   "source": [
    "'''\n",
    "    10. What is the best way to remove whitespace characters from the start or end?\n",
    "    \n",
    "    Ans - \n",
    "        strip() method can be used to remove whitespace characters from the strt or end of the string.        \n",
    "\n",
    "'''\n",
    "greeting = \"     Hello!  \"\n",
    "\n",
    "print(greeting.strip(),\"How are you?\")"
   ]
  }
 ],
 "metadata": {
  "kernelspec": {
   "display_name": "Python 3 (ipykernel)",
   "language": "python",
   "name": "python3"
  },
  "language_info": {
   "codemirror_mode": {
    "name": "ipython",
    "version": 3
   },
   "file_extension": ".py",
   "mimetype": "text/x-python",
   "name": "python",
   "nbconvert_exporter": "python",
   "pygments_lexer": "ipython3",
   "version": "3.9.12"
  }
 },
 "nbformat": 4,
 "nbformat_minor": 5
}
