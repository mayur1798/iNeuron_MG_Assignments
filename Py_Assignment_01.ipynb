{
 "cells": [
  {
   "cell_type": "raw",
   "id": "98dbda1a",
   "metadata": {},
   "source": [
    "1. In the below elements which of them are values or an expression? eg:- values can be\n",
    "   integer or string and expressions will be mathematical operators.\n",
    "    *\n",
    "    'hello'\n",
    "    -87.8\n",
    "    -\n",
    "    /\n",
    "    +\n",
    "    6"
   ]
  },
  {
   "cell_type": "raw",
   "id": "dcbf040b",
   "metadata": {},
   "source": [
    "Ans - \n",
    "    *         -- Expression\n",
    "    'hello'   -- Value\n",
    "    -87.8     -- Value\n",
    "    -         -- Expression\n",
    "    /         -- Expression\n",
    "    +         -- Expression\n",
    "    6         -- Value"
   ]
  },
  {
   "cell_type": "raw",
   "id": "994b0e99",
   "metadata": {},
   "source": [
    "2. What is the difference between string and variable?"
   ]
  },
  {
   "cell_type": "raw",
   "id": "9921699f",
   "metadata": {},
   "source": [
    "Ans - \n",
    "    String is collection of single characters. It is one of the datatypes of a variable and it is a object'\n",
    "    Variable is a holder to store values in them. It is a name referenced to a object, it can of datatypes int, float, bool etc"
   ]
  },
  {
   "cell_type": "raw",
   "id": "e5a1e7c9",
   "metadata": {},
   "source": [
    "3. Describe three different data types."
   ]
  },
  {
   "cell_type": "raw",
   "id": "2e36c8eb",
   "metadata": {},
   "source": [
    "Ans -  \n",
    "    1.int : holds integer data.\n",
    "          eg: a=10 \n",
    "          \n",
    "    2.bool : bolds boolean type of data.i.e True or False\n",
    "          eg: a= True \n",
    "           \n",
    "    3.float: holds the numbers in decimal format.\n",
    "          eg: a= 10.45 "
   ]
  },
  {
   "cell_type": "raw",
   "id": "8e60d969",
   "metadata": {},
   "source": [
    "4. What is an expression made up of? What do all expressions do?"
   ]
  },
  {
   "cell_type": "raw",
   "id": "99214b98",
   "metadata": {},
   "source": [
    "Ans - \n",
    "    An expression is made up of operators and operands.\n",
    "    An expression is used to perform mathematical operations, call functions and produce a value."
   ]
  },
  {
   "cell_type": "raw",
   "id": "337daf8c",
   "metadata": {},
   "source": [
    "5. This assignment statements, like spam = 10. What is the difference between an\n",
    "expression and a statement?"
   ]
  },
  {
   "cell_type": "raw",
   "id": "2a2ef013",
   "metadata": {},
   "source": [
    "Ans - \n",
    "    An expression is made up of operators and operands which generate some values.\n",
    "    A statement as mentioned above consumes the value to produce some desired results.\n",
    "    An expression is a part of statement. All expressions can be statement but not all statements can be expression."
   ]
  },
  {
   "cell_type": "raw",
   "id": "5e7439ca",
   "metadata": {},
   "source": [
    "6. After running the following code, what does the variable bacon contain?\n",
    "    bacon = 22\n",
    "    bacon + 1"
   ]
  },
  {
   "cell_type": "code",
   "execution_count": 3,
   "id": "bc01c2c1",
   "metadata": {},
   "outputs": [
    {
     "name": "stdout",
     "output_type": "stream",
     "text": [
      "Without assigning\n",
      "22\n",
      "\n",
      "With assigning\n",
      "23\n"
     ]
    }
   ],
   "source": [
    "#Ans - \n",
    "print(\"Without assigning\")\n",
    "bacon = 22\n",
    "bacon + 1\n",
    "print(bacon)\n",
    "\n",
    "print(\"\\nWith assigning\")\n",
    "bacon = 22\n",
    "bacon=bacon + 1\n",
    "print(bacon)"
   ]
  },
  {
   "cell_type": "raw",
   "id": "666e9354",
   "metadata": {},
   "source": [
    "7. What should the values of the following two terms be?\n",
    "'spam' + 'spamspam'\n",
    "'spam' * 3"
   ]
  },
  {
   "cell_type": "code",
   "execution_count": 4,
   "id": "65f83cd9",
   "metadata": {},
   "outputs": [
    {
     "name": "stdout",
     "output_type": "stream",
     "text": [
      "spamspamspam\n",
      "spamspamspam\n"
     ]
    }
   ],
   "source": [
    "#Ans - \n",
    "print('spam' + 'spamspam')\n",
    "print('spam' * 3)"
   ]
  },
  {
   "cell_type": "raw",
   "id": "17b3e11a",
   "metadata": {},
   "source": [
    "8. Why is eggs a valid variable name while 100 is invalid?"
   ]
  },
  {
   "cell_type": "raw",
   "id": "0d91122e",
   "metadata": {},
   "source": [
    "Ans - \n",
    "    Eggs is a valid variable because it starts with a character, whereas 100 is invalid because a variable cannot start with an     integer."
   ]
  },
  {
   "cell_type": "raw",
   "id": "b0f565d0",
   "metadata": {},
   "source": [
    "9. What three functions can be used to get the integer, floating-point number, or string\n",
    "version of a value?"
   ]
  },
  {
   "cell_type": "raw",
   "id": "c12d9289",
   "metadata": {},
   "source": [
    "Ans - \n",
    "    int(),float() and str() are the three functions used for getting integer, floating-point number and string version of a          value respectively"
   ]
  },
  {
   "cell_type": "raw",
   "id": "97112a6f",
   "metadata": {},
   "source": [
    "10. Why does this expression cause an error? How can you fix it?\n",
    "'I have eaten ' + 99 + ' burritos.'"
   ]
  },
  {
   "cell_type": "code",
   "execution_count": 5,
   "id": "0757f903",
   "metadata": {},
   "outputs": [
    {
     "name": "stdout",
     "output_type": "stream",
     "text": [
      "I have eaten 99 burritos.\n"
     ]
    }
   ],
   "source": [
    "#Ans: Since strings can be concatenated with strings, Since 99 is in int datatype so its causing error and it can be fixed\n",
    "#     by converting int to str.\n",
    "\n",
    "print('I have eaten ' + str(99) + ' burritos.')"
   ]
  }
 ],
 "metadata": {
  "kernelspec": {
   "display_name": "Python 3 (ipykernel)",
   "language": "python",
   "name": "python3"
  },
  "language_info": {
   "codemirror_mode": {
    "name": "ipython",
    "version": 3
   },
   "file_extension": ".py",
   "mimetype": "text/x-python",
   "name": "python",
   "nbconvert_exporter": "python",
   "pygments_lexer": "ipython3",
   "version": "3.9.12"
  }
 },
 "nbformat": 4,
 "nbformat_minor": 5
}
