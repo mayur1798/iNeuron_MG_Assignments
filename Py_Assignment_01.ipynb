{
 "cells": [
  {
   "cell_type": "code",
   "execution_count": null,
   "id": "bcb7f516",
   "metadata": {},
   "outputs": [],
   "source": [
    "# 1. In the below elements which of them are values or an expression? eg:- values can be\n",
    "#    integer or string and expressions will be mathematical operators.\n",
    "#     *\n",
    "#     'hello'\n",
    "#     -87.8\n",
    "#     -\n",
    "#     /\n",
    "#     +\n",
    "#     6"
   ]
  },
  {
   "cell_type": "code",
   "execution_count": null,
   "id": "001b9896",
   "metadata": {},
   "outputs": [],
   "source": [
    "# Ans - \n",
    "#     *         -- Expression\n",
    "#     'hello'   -- Value\n",
    "#     -87.8     -- Value\n",
    "#     -         -- Expression\n",
    "#     /         -- Expression\n",
    "#     +         -- Expression\n",
    "#     6         -- Value "
   ]
  },
  {
   "cell_type": "code",
   "execution_count": null,
   "id": "ad6fe182",
   "metadata": {},
   "outputs": [],
   "source": [
    "# 2. What is the difference between string and variable?"
   ]
  },
  {
   "cell_type": "code",
   "execution_count": null,
   "id": "52641874",
   "metadata": {},
   "outputs": [],
   "source": [
    "# Ans - \n",
    "#     String is collection of single characters. It is one of the datatypes of a variable and it is a object'\n",
    "#     Variable is a holder to store values in them. It is a name referenced to a object, it can of datatypes int, float, bool etc"
   ]
  },
  {
   "cell_type": "code",
   "execution_count": null,
   "id": "d6244de7",
   "metadata": {},
   "outputs": [],
   "source": [
    "# 3. Describe three different data types."
   ]
  },
  {
   "cell_type": "code",
   "execution_count": null,
   "id": "1448e9e2",
   "metadata": {},
   "outputs": [],
   "source": [
    "# Ans -  \n",
    "#     1.int : holds integer data.\n",
    "#           eg: a=10 \n",
    "          \n",
    "#     2.bool : bolds boolean type of data.i.e True or False\n",
    "#           eg: a= True \n",
    "           \n",
    "#     3.float: holds the numbers in decimal format.\n",
    "#           eg: a= 10.45 "
   ]
  },
  {
   "cell_type": "code",
   "execution_count": null,
   "id": "469dbf85",
   "metadata": {},
   "outputs": [],
   "source": [
    "# 4. What is an expression made up of? What do all expressions do?"
   ]
  },
  {
   "cell_type": "code",
   "execution_count": null,
   "id": "f20a8bfe",
   "metadata": {},
   "outputs": [],
   "source": [
    "# Ans - \n",
    "#     An expression is made up of operators and operands.\n",
    "#     An expression is used to perform mathematical operations, call functions and produce a value."
   ]
  },
  {
   "cell_type": "code",
   "execution_count": null,
   "id": "c08e223f",
   "metadata": {},
   "outputs": [],
   "source": [
    "# 5. This assignment statements, like spam = 10. What is the difference between an\n",
    "# expression and a statement?"
   ]
  },
  {
   "cell_type": "code",
   "execution_count": null,
   "id": "34490e8b",
   "metadata": {},
   "outputs": [],
   "source": [
    "# Ans - \n",
    "#     An expression is made up of operators and operands which generate some values.\n",
    "#     A statement as mentioned above consumes the value to produce some desired results.\n",
    "#     An expression is a part of statement. All expressions can be statement but not all statements can be expression."
   ]
  },
  {
   "cell_type": "code",
   "execution_count": null,
   "id": "cfe0669c",
   "metadata": {},
   "outputs": [],
   "source": [
    "# 6. After running the following code, what does the variable bacon contain?\n",
    "#     bacon = 22\n",
    "#     bacon + 1"
   ]
  },
  {
   "cell_type": "code",
   "execution_count": 6,
   "id": "4c565f7a",
   "metadata": {},
   "outputs": [
    {
     "name": "stdout",
     "output_type": "stream",
     "text": [
      "Without assigning\n",
      "22\n",
      "\n",
      "With assigning\n",
      "23\n"
     ]
    }
   ],
   "source": [
    "#Ans - \n",
    "print(\"Without assigning\")\n",
    "bacon = 22\n",
    "bacon + 1\n",
    "print(bacon)\n",
    "\n",
    "print(\"\\nWith assigning\")\n",
    "bacon = 22\n",
    "bacon=bacon + 1\n",
    "print(bacon)"
   ]
  },
  {
   "cell_type": "code",
   "execution_count": null,
   "id": "8009912e",
   "metadata": {},
   "outputs": [],
   "source": [
    "# 7. What should the values of the following two terms be?\n",
    "# 'spam' + 'spamspam'\n",
    "# 'spam' * 3"
   ]
  },
  {
   "cell_type": "code",
   "execution_count": 4,
   "id": "f788631a",
   "metadata": {},
   "outputs": [
    {
     "name": "stdout",
     "output_type": "stream",
     "text": [
      "spamspamspam\n",
      "spamspamspam\n"
     ]
    }
   ],
   "source": [
    "#Ans - \n",
    "print('spam' + 'spamspam')\n",
    "print('spam' * 3)"
   ]
  },
  {
   "cell_type": "code",
   "execution_count": null,
   "id": "27fac088",
   "metadata": {},
   "outputs": [],
   "source": [
    "# 8. Why is eggs a valid variable name while 100 is invalid?"
   ]
  },
  {
   "cell_type": "code",
   "execution_count": null,
   "id": "ff4fc784",
   "metadata": {},
   "outputs": [],
   "source": [
    "# Ans - \n",
    "#     Eggs is a valid variable because it starts with a character, whereas 100 is invalid because a variable cannot start with an integer."
   ]
  },
  {
   "cell_type": "code",
   "execution_count": null,
   "id": "f15da9d3",
   "metadata": {},
   "outputs": [],
   "source": [
    "# 9. What three functions can be used to get the integer, floating-point number, or string\n",
    "# version of a value?"
   ]
  },
  {
   "cell_type": "code",
   "execution_count": null,
   "id": "f4712977",
   "metadata": {},
   "outputs": [],
   "source": [
    "# Ans - \n",
    "#     int(),float() and str() are the three functions used for getting integer, floating-point number and string version of a value respectively"
   ]
  },
  {
   "cell_type": "code",
   "execution_count": null,
   "id": "97cede4e",
   "metadata": {},
   "outputs": [],
   "source": [
    "# 10. Why does this expression cause an error? How can you fix it?\n",
    "# 'I have eaten ' + 99 + ' burritos.'"
   ]
  },
  {
   "cell_type": "code",
   "execution_count": 5,
   "id": "87064440",
   "metadata": {},
   "outputs": [
    {
     "name": "stdout",
     "output_type": "stream",
     "text": [
      "I have eaten 99 burritos.\n"
     ]
    }
   ],
   "source": [
    "#Ans: Since strings can be concatenated with strings, Since 99 is in int datatype so its causing error and it can be fixed\n",
    "#     by converting int to str.\n",
    "\n",
    "print('I have eaten ' + str(99) + ' burritos.')"
   ]
  }
 ],
 "metadata": {
  "kernelspec": {
   "display_name": "Python 3 (ipykernel)",
   "language": "python",
   "name": "python3"
  },
  "language_info": {
   "codemirror_mode": {
    "name": "ipython",
    "version": 3
   },
   "file_extension": ".py",
   "mimetype": "text/x-python",
   "name": "python",
   "nbconvert_exporter": "python",
   "pygments_lexer": "ipython3",
   "version": "3.9.12"
  }
 },
 "nbformat": 4,
 "nbformat_minor": 5
}
